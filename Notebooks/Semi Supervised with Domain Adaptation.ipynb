{
 "cells": [
  {
   "cell_type": "code",
   "execution_count": 1,
   "metadata": {
    "collapsed": false
   },
   "outputs": [],
   "source": [
    "import pandas as pd\n",
    "emohash_tweets = pd.read_csv('/Users/MeryemMhamdi/Documents/Datasets/EmotionAnnotatedDatasets/emohash_tweets_3_.csv', sep='\\s{5,}', engine='python', names=['col'],skipinitialspace=True)\n",
    "emohash_tweets['Tweet'] = emohash_tweets['col'].str.split(r'|').apply(lambda x: x[0])\n",
    "emohash_tweets['HashTag'] = emohash_tweets['col'].str.split(r'|').apply(lambda x: x[-2])\n",
    "emohash_tweets['EmotionId'] = emohash_tweets['col'].str.split(r'|').apply(lambda x: x[-1])\n",
    "del (emohash_tweets['col'])"
   ]
  },
  {
   "cell_type": "code",
   "execution_count": null,
   "metadata": {
    "collapsed": false,
    "scrolled": true
   },
   "outputs": [],
   "source": [
    "plutchik_dataset = pd.read_csv('/Users/MeryemMhamdi/Documents/Datasets/EmotionAnnotatedDatasets/primary-plutchik-wheel-DFE.csv')\n",
    "text_emotions_dataset = pd.read_csv('/Users/MeryemMhamdi/Documents/Datasets/EmotionAnnotatedDatasets/text_emotion.csv')\n",
    "\n",
    "plutchik_dataset = plutchik_dataset[['sentence','emotion']]\n",
    "plutchik_dataset.columns = ['Subtitle','Emotion']\n",
    "\n",
    "text_emotions_dataset = text_emotions_dataset[['content','sentiment']]\n",
    "text_emotions_dataset.columns = ['Subtitle','Emotion']\n",
    "\n",
    "frames = [text_emotions_dataset, plutchik_dataset]\n",
    "annotated_dataset = pd.concat(frames)\n",
    "annotated_dataset_neutral = annotated_dataset[annotated_dataset['Emotion']=='neutral'].reset_index(drop = True)\n",
    "len(annotated_dataset)"
   ]
  },
  {
   "cell_type": "code",
   "execution_count": null,
   "metadata": {
    "collapsed": false,
    "scrolled": true
   },
   "outputs": [],
   "source": [
    "tweets_neutral = annotated_dataset[annotated_dataset['Emotion'].isin(['neutral','Neutral'])]\n",
    "tweets_neutral.columns = ['Tweet','EmotionId']\n",
    "tweets_neutral['HashTag']= \"neutral\"\n",
    "tweets_neutral['EmotionId'] = '21'\n",
    "tweets_neutral.reset_index(drop = True)\n",
    "len(tweets_neutral)"
   ]
  },
  {
   "cell_type": "code",
   "execution_count": null,
   "metadata": {
    "collapsed": false
   },
   "outputs": [],
   "source": [
    "frames = [emohash_tweets, tweets_neutral]\n",
    "full_emohash_tweets = pd.concat(frames)"
   ]
  },
  {
   "cell_type": "code",
   "execution_count": null,
   "metadata": {
    "collapsed": false,
    "scrolled": true
   },
   "outputs": [],
   "source": [
    "full_emohash_tweets.dropna()"
   ]
  },
  {
   "cell_type": "code",
   "execution_count": null,
   "metadata": {
    "collapsed": false
   },
   "outputs": [],
   "source": [
    "list_tweets = full_emohash_tweets['Tweet']\n",
    "#for i in range(0,len(list_tweets)):\n",
    "print len(list_tweets[4168])\n",
    "print list_tweets[4168]\n",
    "\n",
    "full_emohash_tweets.isnull().any()"
   ]
  },
  {
   "cell_type": "code",
   "execution_count": null,
   "metadata": {
    "collapsed": false
   },
   "outputs": [],
   "source": [
    "from __future__ import division \n",
    "from collections import Counter\n",
    "emohash_tweets_stats = Counter(partial_emohash_tweets1['EmotionId'])\n",
    "[(y,round((x / sum(emohash_tweets_stats.values()))*100,2)) for (y,x) in dict(emohash_tweets_stats).items()]\n",
    "emohash_tweets_stats"
   ]
  },
  {
   "cell_type": "code",
   "execution_count": null,
   "metadata": {
    "collapsed": false
   },
   "outputs": [],
   "source": [
    "for (x,y) in dict(emohash_tweets_stats).items():\n",
    "    print y   "
   ]
  },
  {
   "cell_type": "code",
   "execution_count": null,
   "metadata": {
    "collapsed": false
   },
   "outputs": [],
   "source": [
    "len(emohash_tweets)"
   ]
  },
  {
   "cell_type": "code",
   "execution_count": null,
   "metadata": {
    "collapsed": false
   },
   "outputs": [],
   "source": [
    "partial_frames = [full_emohash_tweets[full_emohash_tweets['EmotionId']=='1'][0:9171],full_emohash_tweets[full_emohash_tweets['EmotionId']=='2'][0:9171],full_emohash_tweets[full_emohash_tweets['EmotionId']=='3'][0:9171],full_emohash_tweets[full_emohash_tweets['EmotionId']=='4'][0:9171],full_emohash_tweets[full_emohash_tweets['EmotionId']=='5'][0:9171],full_emohash_tweets[full_emohash_tweets['EmotionId']=='6'][0:9171],full_emohash_tweets[full_emohash_tweets['EmotionId']=='7'][0:9171],full_emohash_tweets[full_emohash_tweets['EmotionId']=='8'][0:9171],full_emohash_tweets[full_emohash_tweets['EmotionId']=='9'][0:9171],full_emohash_tweets[full_emohash_tweets['EmotionId']=='10'][0:9171],full_emohash_tweets[full_emohash_tweets['EmotionId']=='11'][0:9171],full_emohash_tweets[full_emohash_tweets['EmotionId']=='12'][0:9171],full_emohash_tweets[full_emohash_tweets['EmotionId']=='13'][0:9171],full_emohash_tweets[full_emohash_tweets['EmotionId']=='14'][0:9171],full_emohash_tweets[full_emohash_tweets['EmotionId']=='15'][0:9171],full_emohash_tweets[full_emohash_tweets['EmotionId']=='16'][0:9171],full_emohash_tweets[full_emohash_tweets['EmotionId']=='17'][0:9171],full_emohash_tweets[full_emohash_tweets['EmotionId']=='18'][0:9171],full_emohash_tweets[full_emohash_tweets['EmotionId']=='19'][0:9171],full_emohash_tweets[full_emohash_tweets['EmotionId']=='20'][0:9171],full_emohash_tweets[full_emohash_tweets['EmotionId']=='21'][0:9171]]\n",
    "partial_emohash_tweets = pd.concat(partial_frames) "
   ]
  },
  {
   "cell_type": "code",
   "execution_count": null,
   "metadata": {
    "collapsed": false
   },
   "outputs": [],
   "source": [
    "partial_emohash_tweets['text'] = partial_emohash_tweets['Tweet']"
   ]
  },
  {
   "cell_type": "code",
   "execution_count": null,
   "metadata": {
    "collapsed": true
   },
   "outputs": [],
   "source": [
    "partial_emohash_tweets1.to_csv('Annotated_Tweets_For_Training.csv')"
   ]
  },
  {
   "cell_type": "markdown",
   "metadata": {},
   "source": [
    "## START HERE >>>>>>>>>> Loading Already Prepared Annotated Tweets:"
   ]
  },
  {
   "cell_type": "code",
   "execution_count": 1,
   "metadata": {
    "collapsed": false
   },
   "outputs": [],
   "source": [
    "import pandas as pd\n",
    "partial_emohash_tweets1 = pd.read_csv('Annotated_Tweets_For_Training.csv')"
   ]
  },
  {
   "cell_type": "code",
   "execution_count": 2,
   "metadata": {
    "collapsed": false
   },
   "outputs": [
    {
     "name": "stderr",
     "output_type": "stream",
     "text": [
      "100%|██████████| 412826/412826 [00:22<00:00, 18117.02it/s]"
     ]
    },
    {
     "name": "stdout",
     "output_type": "stream",
     "text": [
      "[u'so', u'if', u'a', u'photon', u'be', u'direct', u'through', u'a', u'plane', u'with', u'two', u'slit', u'in', u'it', u'and', u'either', u'slit', u'be', u'observe', u'it', u'will', u'not', u'go', u'through', u'both', u'slit', u'if', u'it', u'be', u'unobserved', u'it', u'will', u'however', u'if', u'it', u'be', u'observe', u'after', u'it', u'be', u'leave', u'the', u'plane', u'but', u'before', u'it', u'hit', u'its', u'target', u'it', u'will', u'not', u'have', u'go', u'through', u'both', u'slit']\n"
     ]
    },
    {
     "name": "stderr",
     "output_type": "stream",
     "text": [
      "\n"
     ]
    }
   ],
   "source": [
    "import pandas as pd\n",
    "import ast\n",
    "from tqdm import tqdm\n",
    "whole_df = pd.read_csv('/home/meryem/Dropbox/meryem/algorithms/EmotionRecognition/FinalResults/Unannotated_Representation_Whole.csv')\n",
    "tokenized_lemma = whole_df['Tokenized Lemmatized']\n",
    "\n",
    "# Convert tokenized_lemma\n",
    "tokenized_lemmatized_tweets = []\n",
    "for i in tqdm(range(0, len(tokenized_lemma))):\n",
    "    result = ast.literal_eval(tokenized_lemma[i])\n",
    "    tokenized_lemmatized_tweets.append(result)\n",
    "\n",
    "print tokenized_lemmatized_tweets[0]\n"
   ]
  },
  {
   "cell_type": "code",
   "execution_count": 3,
   "metadata": {
    "collapsed": false
   },
   "outputs": [
    {
     "name": "stderr",
     "output_type": "stream",
     "text": [
      "100%|██████████| 412826/412826 [00:13<00:00, 30385.31it/s]"
     ]
    },
    {
     "name": "stdout",
     "output_type": "stream",
     "text": [
      "[u'photon', u'direct', u'plane', u'slit', u'slit', u'observe', u'slit', u'unobserved', u'observe', u'leave', u'plane', u'hit', u'target', u'slit', 'not_go', 'not_go']\n"
     ]
    },
    {
     "name": "stderr",
     "output_type": "stream",
     "text": [
      "\n"
     ]
    }
   ],
   "source": [
    "import pandas as pd\n",
    "whole_df = pd.read_csv('/home/meryem/Dropbox/meryem/algorithms/EmotionRecognition/FinalResults/Unannotated_Representation_Whole.csv')\n",
    "import ast\n",
    "un_nava = whole_df['Nava Representation']\n",
    "\n",
    "# Convert tokenized_lemma\n",
    "nava_un_tweets = []\n",
    "for i in tqdm(range(0, len(un_nava))):\n",
    "    result = ast.literal_eval(un_nava[i])\n",
    "    nava_un_tweets.append(result)\n",
    "\n",
    "print nava_un_tweets[0]\n"
   ]
  },
  {
   "cell_type": "code",
   "execution_count": 4,
   "metadata": {
    "collapsed": false,
    "scrolled": true
   },
   "outputs": [
    {
     "name": "stderr",
     "output_type": "stream",
     "text": [
      "100%|██████████| 184474/184474 [00:10<00:00, 17490.43it/s]"
     ]
    },
    {
     "name": "stdout",
     "output_type": "stream",
     "text": [
      "[u'username', u'text', u'to', u'from', u'player', u'and', u'autocorrect', u'how', u'do', u'you', u'guy', u'handle', u'those']\n"
     ]
    },
    {
     "name": "stderr",
     "output_type": "stream",
     "text": [
      "\n"
     ]
    }
   ],
   "source": [
    "from tqdm import tqdm\n",
    "import ast\n",
    "import pandas as pd\n",
    "annotated_df = pd.read_csv('/home/meryem/Dropbox/meryem/algorithms/EmotionRecognition/FinalResults/Annotated_Tweets_Representation.csv')\n",
    "tokenized_lemma_anno = annotated_df['Tokenized Lemmatized']\n",
    "\n",
    "# Convert Nava Tweets\n",
    "tokenized_lemmatized_tweets_anno = []\n",
    "for i in tqdm(range(0, len(tokenized_lemma_anno))):\n",
    "    result = ast.literal_eval(tokenized_lemma_anno[i])\n",
    "    tokenized_lemmatized_tweets_anno.append(result)\n",
    "\n",
    "print tokenized_lemmatized_tweets_anno[0]"
   ]
  },
  {
   "cell_type": "code",
   "execution_count": 5,
   "metadata": {
    "collapsed": false
   },
   "outputs": [
    {
     "name": "stderr",
     "output_type": "stream",
     "text": [
      "100%|██████████| 184474/184474 [00:07<00:00, 24455.59it/s]"
     ]
    },
    {
     "name": "stdout",
     "output_type": "stream",
     "text": [
      "[u'player', u'autocorrect', u'guy', u'handle']\n"
     ]
    },
    {
     "name": "stderr",
     "output_type": "stream",
     "text": [
      "\n"
     ]
    }
   ],
   "source": [
    "from tqdm import tqdm\n",
    "import ast\n",
    "import pandas as pd\n",
    "annotated_df = pd.read_csv('/home/meryem/Dropbox/meryem/algorithms/EmotionRecognition/FinalResults/Annotated_Tweets_Representation.csv')\n",
    "\n",
    "anno_nava = annotated_df['Nava Representation']\n",
    "\n",
    "# Convert Nava Tweets\n",
    "nava_anno_tweets = []\n",
    "for i in tqdm(range(0, len(anno_nava))):\n",
    "    result = ast.literal_eval(anno_nava[i])\n",
    "    nava_anno_tweets.append(result)\n",
    "\n",
    "print nava_anno_tweets[0]"
   ]
  },
  {
   "cell_type": "code",
   "execution_count": 6,
   "metadata": {
    "collapsed": false
   },
   "outputs": [],
   "source": [
    "import numpy as np  # Make sure that numpy is imported\n",
    "\n",
    "def makeFeatureVec(words, model, num_features):\n",
    "    # Function to average all of the word vectors in a given\n",
    "    # sentence\n",
    "    #\n",
    "    # Pre-initialize an empty numpy array (for speed)\n",
    "    featureVec = np.zeros((num_features,),dtype=\"float32\")\n",
    "    #\n",
    "    nwords = 0.\n",
    "    # \n",
    "    # Index2word is a list that contains the names of the words in \n",
    "    # the model's vocabulary. Convert it to a set, for speed \n",
    "    index2word_set = set(model.index2word)\n",
    "    #\n",
    "    # Loop over each word in the review and, if it is in the model's\n",
    "    # vocaublary, add its feature vector to the total\n",
    "    for word in words:\n",
    "        if word in index2word_set: \n",
    "            nwords = nwords + 1.\n",
    "            if word in model:\n",
    "                featureVec = np.add(featureVec,model[word])\n",
    "                \n",
    "    # \n",
    "    # Divide the result by the number of words to get the average\n",
    "    if nwords != 0:\n",
    "        featureVec = np.divide(featureVec,nwords)\n",
    "    return featureVec\n",
    "\n",
    "\n",
    "def getAvgFeatureVecs(sentences, model, num_features):\n",
    "    # Given a set of sentences (each one a list of words), calculate \n",
    "    # the average feature vector for each one and return a 2D numpy array \n",
    "    # \n",
    "    # Initialize a counter\n",
    "    counter = 0.\n",
    "    # \n",
    "    # Preallocate a 2D numpy array, for speed\n",
    "    sentenceFeatureVecs = np.zeros((len(sentences),num_features),dtype=\"float32\")\n",
    "    # \n",
    "    # Loop through the sentences\n",
    "    for i in tqdm(range(0,len(sentences))):\n",
    "        # \n",
    "        # Call the function (defined above) that makes average feature vectors\n",
    "        sentenceFeatureVecs[counter] = makeFeatureVec(sentences[i], model, num_features)\n",
    "        #\n",
    "        # Increment the counter\n",
    "        counter = counter + 1.\n",
    "    return sentenceFeatureVecs"
   ]
  },
  {
   "cell_type": "code",
   "execution_count": 7,
   "metadata": {
    "collapsed": false
   },
   "outputs": [
    {
     "name": "stderr",
     "output_type": "stream",
     "text": [
      "/home/meryem/miniconda2/lib/python2.7/site-packages/gensim/utils.py:1015: UserWarning: Pattern library is not installed, lemmatization won't be available.\n",
      "  warnings.warn(\"Pattern library is not installed, lemmatization won't be available.\")\n",
      "100%|██████████| 184474/184474 [07:33<00:00, 406.39it/s]\n"
     ]
    }
   ],
   "source": [
    "# ****************************************************************\n",
    "# Calculate average feature vectors for training and testing sets,\n",
    "# using the functions we defined above. \n",
    "from gensim.models import word2vec\n",
    "model = word2vec.Word2Vec.load(\"300features_40minwords_10context_combined\")\n",
    "\n",
    "EmoHashVecs = getAvgFeatureVecs(nava_anno_tweets, model, 300)\n",
    "#UnannotatedVecs = getAvgFeatureVecs(nava_un_tweets, model, 300)"
   ]
  },
  {
   "cell_type": "code",
   "execution_count": 8,
   "metadata": {
    "collapsed": false
   },
   "outputs": [
    {
     "name": "stderr",
     "output_type": "stream",
     "text": [
      "100%|██████████| 412826/412826 [18:17<00:00, 376.14it/s]\n"
     ]
    }
   ],
   "source": [
    "UnannotatedVecs = getAvgFeatureVecs(nava_un_tweets, model, 300)"
   ]
  },
  {
   "cell_type": "code",
   "execution_count": 10,
   "metadata": {
    "collapsed": true
   },
   "outputs": [],
   "source": [
    "import csv\n",
    "with open(\"UnannotatedVecs.csv\", 'w') as f:\n",
    "    writer = csv.writer(f, delimiter=',')\n",
    "    writer.writerows(UnannotatedVecs)"
   ]
  },
  {
   "cell_type": "markdown",
   "metadata": {},
   "source": [
    "### Performing Train/Test Splits:"
   ]
  },
  {
   "cell_type": "code",
   "execution_count": 9,
   "metadata": {
    "collapsed": false
   },
   "outputs": [],
   "source": [
    "from sklearn.model_selection import train_test_split\n",
    "X_train, X_test, y_train, y_test = train_test_split(EmoHashVecs,partial_emohash_tweets1['EmotionId'], test_size=0.3)"
   ]
  },
  {
   "cell_type": "markdown",
   "metadata": {},
   "source": [
    "# SVM"
   ]
  },
  {
   "cell_type": "code",
   "execution_count": 12,
   "metadata": {
    "collapsed": false
   },
   "outputs": [
    {
     "name": "stdout",
     "output_type": "stream",
     "text": [
      "[LibSVM]"
     ]
    }
   ],
   "source": [
    "from sklearn import svm\n",
    "from sklearn.model_selection import cross_val_score\n",
    "C = 1.0 # PARAMETERS TO BE FINE TUNED \n",
    "gamma = 0.7 # PARAMETERS TO BE FINE TUNED\n",
    "degree = 9 # PARAMETERS TO BE FINE TUNED\n",
    "lin_svc = svm.SVC(kernel='linear', C=C, class_weight={1: 21},verbose=True).fit(X_train[0:10000], y_train[0:10000])\n",
    "#rbf_svc = svm.SVC(kernel='rbf', gamma=gamma, C=C,class_weight={1: 9}).fit(X_train, y_train)\n",
    "#poly_svc = svm.SVC(kernel='poly', degree=degree, C=C).fit(X_train, y_train)\n",
    "\n",
    "#scores = cross_val_score(clf, EmoHashVecs, partial_emohash_tweets['EmotionId'], cv=5)"
   ]
  },
  {
   "cell_type": "code",
   "execution_count": 13,
   "metadata": {
    "collapsed": false
   },
   "outputs": [
    {
     "data": {
      "text/plain": [
       "{1, 2, 3, 4, 5, 6, 7, 8, 9, 10, 11, 12, 13, 14, 15, 16, 17, 18, 19, 20, 21}"
      ]
     },
     "execution_count": 13,
     "metadata": {},
     "output_type": "execute_result"
    }
   ],
   "source": [
    "result = lin_svc.predict(X_train)\n",
    "set(result)"
   ]
  },
  {
   "cell_type": "code",
   "execution_count": 20,
   "metadata": {
    "collapsed": false
   },
   "outputs": [
    {
     "name": "stdout",
     "output_type": "stream",
     "text": [
      "('Accuracy Score: ', 0.17078944039896646)\n",
      "('micro Precision Score: ', 0.17078944039896646)\n",
      "('micro Recall Score: ', 0.17078944039896646)\n",
      "('micro f1_score: ', 0.17078944039896646)\n",
      "('macro Precision Score: ', 0.20562705022780192)\n",
      "('macro Recall Score: ', 0.16352044925958109)\n",
      "('macro f1_score: ', 0.16576852359290195)\n",
      "('roc_auc_score: ', 0.47637120471293548)\n"
     ]
    }
   ],
   "source": [
    "from sklearn import metrics\n",
    "\n",
    "print('Accuracy Score: ',metrics.accuracy_score(y_test, result_test))\n",
    "\n",
    "print('micro Precision Score: ',metrics.precision_score(y_test, result_test, average='micro'))\n",
    "print('micro Recall Score: ',metrics.recall_score(y_test, result_test, average='micro'))\n",
    "print('micro f1_score: ',metrics.f1_score(y_test, result_test, average='micro'))\n",
    "\n",
    "print('macro Precision Score: ',metrics.precision_score(y_test, result_test, average='macro'))\n",
    "print('macro Recall Score: ',metrics.recall_score(y_test, result_test, average='macro'))\n",
    "print('macro f1_score: ',metrics.f1_score(y_test, result_test, average='macro'))\n",
    "\n",
    "\n",
    "# Customized Version of AUC for multiple classes\n",
    "fpr, tpr, thresholds = metrics.roc_curve(y_test, result_test, pos_label=9)\n",
    "print('roc_auc_score: ',metrics.auc(fpr, tpr))"
   ]
  },
  {
   "cell_type": "code",
   "execution_count": 19,
   "metadata": {
    "collapsed": true
   },
   "outputs": [],
   "source": [
    "result_test = lin_svc.predict(X_test)"
   ]
  },
  {
   "cell_type": "code",
   "execution_count": 14,
   "metadata": {
    "collapsed": true
   },
   "outputs": [],
   "source": [
    "dialog_results_svm = lin_svc.predict(UnannotatedVecs)"
   ]
  },
  {
   "cell_type": "code",
   "execution_count": 15,
   "metadata": {
    "collapsed": false
   },
   "outputs": [
    {
     "data": {
      "text/plain": [
       "{1, 2, 3, 4, 5, 6, 7, 8, 9, 10, 11, 12, 13, 14, 15, 16, 17, 18, 19, 20, 21}"
      ]
     },
     "execution_count": 15,
     "metadata": {},
     "output_type": "execute_result"
    }
   ],
   "source": [
    "set(dialog_results_svm)"
   ]
  },
  {
   "cell_type": "code",
   "execution_count": 16,
   "metadata": {
    "collapsed": true
   },
   "outputs": [],
   "source": [
    "whole_df['SVM No Domain Adaptation'] = dialog_results_svm#= pd.read_csv('/home/meryem/Dropbox/meryem/algorithms/EmotionRecognition/FinalResults/Unannotated_Representation_Whole.csv')\n",
    "whole_df.to_csv('/home/meryem/Dropbox/meryem/algorithms/EmotionRecognition/FinalResults/svm_linear.csv')\n"
   ]
  },
  {
   "cell_type": "markdown",
   "metadata": {},
   "source": [
    "# Random Forest"
   ]
  },
  {
   "cell_type": "code",
   "execution_count": 17,
   "metadata": {
    "collapsed": true
   },
   "outputs": [],
   "source": [
    "# Dealing with Unbalanced Classes:\n",
    "def weight_sample(labels):\n",
    "    \"\"\" We calculate the percentages for each class and add it to the sample_weights list\"\"\"\n",
    "    \n",
    "    weight_class = labels.value_counts()/len(labels)\n",
    "    \n",
    "    sample_weights = []\n",
    "    for i in labels:\n",
    "        sample_weights += [weight_class[i]]\n",
    "        \n",
    "    return np.array(sample_weights)\n",
    "\n",
    "sample_weights = weight_sample(y_train)"
   ]
  },
  {
   "cell_type": "code",
   "execution_count": 22,
   "metadata": {
    "collapsed": false,
    "scrolled": true
   },
   "outputs": [
    {
     "name": "stdout",
     "output_type": "stream",
     "text": [
      "Fitting a random forest to labeled training data....\n",
      "building tree 1 of 10\n"
     ]
    },
    {
     "name": "stderr",
     "output_type": "stream",
     "text": [
      "[Parallel(n_jobs=1)]: Done   1 out of   1 | elapsed:  1.3min remaining:    0.0s\n"
     ]
    },
    {
     "name": "stdout",
     "output_type": "stream",
     "text": [
      "building tree 2 of 10\n"
     ]
    },
    {
     "name": "stderr",
     "output_type": "stream",
     "text": [
      "[Parallel(n_jobs=1)]: Done   2 out of   2 | elapsed:  2.6min remaining:    0.0s\n"
     ]
    },
    {
     "name": "stdout",
     "output_type": "stream",
     "text": [
      "building tree 3 of 10\n",
      "building tree 4 of 10\n",
      "building tree 5 of 10\n",
      "building tree 6 of 10\n",
      "building tree 7 of 10\n",
      "building tree 8 of 10\n",
      "building tree 9 of 10\n",
      "building tree 10 of 10\n"
     ]
    },
    {
     "name": "stderr",
     "output_type": "stream",
     "text": [
      "[Parallel(n_jobs=1)]: Done  10 out of  10 | elapsed: 13.0min finished\n",
      "[Parallel(n_jobs=1)]: Done   1 out of   1 | elapsed:    0.1s remaining:    0.0s\n",
      "[Parallel(n_jobs=1)]: Done   2 out of   2 | elapsed:    0.2s remaining:    0.0s\n",
      "[Parallel(n_jobs=1)]: Done  10 out of  10 | elapsed:    1.1s finished\n",
      "[Parallel(n_jobs=1)]: Done   1 out of   1 | elapsed:    0.0s remaining:    0.0s\n",
      "[Parallel(n_jobs=1)]: Done   2 out of   2 | elapsed:    0.1s remaining:    0.0s\n",
      "[Parallel(n_jobs=1)]: Done  10 out of  10 | elapsed:    0.4s finished\n",
      "[Parallel(n_jobs=1)]: Done   1 out of   1 | elapsed:    0.0s remaining:    0.0s\n",
      "[Parallel(n_jobs=1)]: Done   2 out of   2 | elapsed:    0.0s remaining:    0.0s\n",
      "[Parallel(n_jobs=1)]: Done  10 out of  10 | elapsed:    0.0s finished\n"
     ]
    },
    {
     "name": "stdout",
     "output_type": "stream",
     "text": [
      "Fitting a random forest to training data using domain adaptation, ITERATION: 1\n",
      "building tree 1 of 10\n"
     ]
    },
    {
     "name": "stderr",
     "output_type": "stream",
     "text": [
      "[Parallel(n_jobs=1)]: Done   1 out of   1 | elapsed:  1.4min remaining:    0.0s\n"
     ]
    },
    {
     "name": "stdout",
     "output_type": "stream",
     "text": [
      "building tree 2 of 10\n"
     ]
    },
    {
     "name": "stderr",
     "output_type": "stream",
     "text": [
      "[Parallel(n_jobs=1)]: Done   2 out of   2 | elapsed:  2.7min remaining:    0.0s\n"
     ]
    },
    {
     "name": "stdout",
     "output_type": "stream",
     "text": [
      "building tree 3 of 10\n",
      "building tree 4 of 10\n",
      "building tree 5 of 10\n",
      "building tree 6 of 10\n",
      "building tree 7 of 10\n",
      "building tree 8 of 10\n",
      "building tree 9 of 10\n",
      "building tree 10 of 10\n"
     ]
    },
    {
     "name": "stderr",
     "output_type": "stream",
     "text": [
      "[Parallel(n_jobs=1)]: Done  10 out of  10 | elapsed: 12.9min finished\n",
      "[Parallel(n_jobs=1)]: Done   1 out of   1 | elapsed:    0.1s remaining:    0.0s\n",
      "[Parallel(n_jobs=1)]: Done   2 out of   2 | elapsed:    0.2s remaining:    0.0s\n",
      "[Parallel(n_jobs=1)]: Done  10 out of  10 | elapsed:    1.2s finished\n",
      "[Parallel(n_jobs=1)]: Done   1 out of   1 | elapsed:    0.0s remaining:    0.0s\n",
      "[Parallel(n_jobs=1)]: Done   2 out of   2 | elapsed:    0.0s remaining:    0.0s\n",
      "[Parallel(n_jobs=1)]: Done  10 out of  10 | elapsed:    0.0s finished\n"
     ]
    },
    {
     "name": "stdout",
     "output_type": "stream",
     "text": [
      "Fitting a random forest to training data using domain adaptation, ITERATION: 2\n",
      "building tree 1 of 10\n"
     ]
    },
    {
     "name": "stderr",
     "output_type": "stream",
     "text": [
      "[Parallel(n_jobs=1)]: Done   1 out of   1 | elapsed:  1.3min remaining:    0.0s\n"
     ]
    },
    {
     "name": "stdout",
     "output_type": "stream",
     "text": [
      "building tree 2 of 10\n"
     ]
    },
    {
     "name": "stderr",
     "output_type": "stream",
     "text": [
      "[Parallel(n_jobs=1)]: Done   2 out of   2 | elapsed:  2.7min remaining:    0.0s\n"
     ]
    },
    {
     "name": "stdout",
     "output_type": "stream",
     "text": [
      "building tree 3 of 10\n",
      "building tree 4 of 10\n",
      "building tree 5 of 10\n",
      "building tree 6 of 10\n",
      "building tree 7 of 10\n",
      "building tree 8 of 10\n",
      "building tree 9 of 10\n",
      "building tree 10 of 10\n"
     ]
    },
    {
     "name": "stderr",
     "output_type": "stream",
     "text": [
      "[Parallel(n_jobs=1)]: Done  10 out of  10 | elapsed: 13.3min finished\n",
      "[Parallel(n_jobs=1)]: Done   1 out of   1 | elapsed:    0.1s remaining:    0.0s\n",
      "[Parallel(n_jobs=1)]: Done   2 out of   2 | elapsed:    0.2s remaining:    0.0s\n",
      "[Parallel(n_jobs=1)]: Done  10 out of  10 | elapsed:    1.1s finished\n",
      "[Parallel(n_jobs=1)]: Done   1 out of   1 | elapsed:    0.0s remaining:    0.0s\n",
      "[Parallel(n_jobs=1)]: Done   2 out of   2 | elapsed:    0.0s remaining:    0.0s\n",
      "[Parallel(n_jobs=1)]: Done  10 out of  10 | elapsed:    0.0s finished\n"
     ]
    },
    {
     "name": "stdout",
     "output_type": "stream",
     "text": [
      "Fitting a random forest to training data using domain adaptation, ITERATION: 3\n",
      "building tree 1 of 10\n"
     ]
    },
    {
     "name": "stderr",
     "output_type": "stream",
     "text": [
      "[Parallel(n_jobs=1)]: Done   1 out of   1 | elapsed:  1.4min remaining:    0.0s\n"
     ]
    },
    {
     "name": "stdout",
     "output_type": "stream",
     "text": [
      "building tree 2 of 10\n"
     ]
    },
    {
     "name": "stderr",
     "output_type": "stream",
     "text": [
      "[Parallel(n_jobs=1)]: Done   2 out of   2 | elapsed:  2.8min remaining:    0.0s\n"
     ]
    },
    {
     "name": "stdout",
     "output_type": "stream",
     "text": [
      "building tree 3 of 10\n",
      "building tree 4 of 10\n",
      "building tree 5 of 10\n",
      "building tree 6 of 10\n",
      "building tree 7 of 10\n",
      "building tree 8 of 10\n",
      "building tree 9 of 10\n",
      "building tree 10 of 10\n"
     ]
    },
    {
     "name": "stderr",
     "output_type": "stream",
     "text": [
      "[Parallel(n_jobs=1)]: Done  10 out of  10 | elapsed: 13.2min finished\n",
      "[Parallel(n_jobs=1)]: Done   1 out of   1 | elapsed:    0.1s remaining:    0.0s\n",
      "[Parallel(n_jobs=1)]: Done   2 out of   2 | elapsed:    0.2s remaining:    0.0s\n",
      "[Parallel(n_jobs=1)]: Done  10 out of  10 | elapsed:    1.0s finished\n",
      "[Parallel(n_jobs=1)]: Done   1 out of   1 | elapsed:    0.0s remaining:    0.0s\n",
      "[Parallel(n_jobs=1)]: Done   2 out of   2 | elapsed:    0.0s remaining:    0.0s\n",
      "[Parallel(n_jobs=1)]: Done  10 out of  10 | elapsed:    0.0s finished\n"
     ]
    },
    {
     "name": "stdout",
     "output_type": "stream",
     "text": [
      "Fitting a random forest to training data using domain adaptation, ITERATION: 4\n",
      "building tree 1 of 10\n"
     ]
    },
    {
     "name": "stderr",
     "output_type": "stream",
     "text": [
      "[Parallel(n_jobs=1)]: Done   1 out of   1 | elapsed:  1.3min remaining:    0.0s\n"
     ]
    },
    {
     "name": "stdout",
     "output_type": "stream",
     "text": [
      "building tree 2 of 10\n"
     ]
    },
    {
     "name": "stderr",
     "output_type": "stream",
     "text": [
      "[Parallel(n_jobs=1)]: Done   2 out of   2 | elapsed:  2.6min remaining:    0.0s\n"
     ]
    },
    {
     "name": "stdout",
     "output_type": "stream",
     "text": [
      "building tree 3 of 10\n",
      "building tree 4 of 10\n",
      "building tree 5 of 10\n",
      "building tree 6 of 10\n",
      "building tree 7 of 10\n",
      "building tree 8 of 10\n",
      "building tree 9 of 10\n",
      "building tree 10 of 10\n"
     ]
    },
    {
     "name": "stderr",
     "output_type": "stream",
     "text": [
      "[Parallel(n_jobs=1)]: Done  10 out of  10 | elapsed: 13.5min finished\n",
      "[Parallel(n_jobs=1)]: Done   1 out of   1 | elapsed:    0.1s remaining:    0.0s\n",
      "[Parallel(n_jobs=1)]: Done   2 out of   2 | elapsed:    0.2s remaining:    0.0s\n",
      "[Parallel(n_jobs=1)]: Done  10 out of  10 | elapsed:    0.9s finished\n",
      "[Parallel(n_jobs=1)]: Done   1 out of   1 | elapsed:    0.0s remaining:    0.0s\n",
      "[Parallel(n_jobs=1)]: Done   2 out of   2 | elapsed:    0.0s remaining:    0.0s\n",
      "[Parallel(n_jobs=1)]: Done  10 out of  10 | elapsed:    0.0s finished\n"
     ]
    },
    {
     "name": "stdout",
     "output_type": "stream",
     "text": [
      "Fitting a random forest to training data using domain adaptation, ITERATION: 5\n",
      "building tree 1 of 10\n"
     ]
    },
    {
     "name": "stderr",
     "output_type": "stream",
     "text": [
      "[Parallel(n_jobs=1)]: Done   1 out of   1 | elapsed:  1.4min remaining:    0.0s\n"
     ]
    },
    {
     "name": "stdout",
     "output_type": "stream",
     "text": [
      "building tree 2 of 10\n"
     ]
    },
    {
     "name": "stderr",
     "output_type": "stream",
     "text": [
      "[Parallel(n_jobs=1)]: Done   2 out of   2 | elapsed:  2.7min remaining:    0.0s\n"
     ]
    },
    {
     "name": "stdout",
     "output_type": "stream",
     "text": [
      "building tree 3 of 10\n",
      "building tree 4 of 10\n",
      "building tree 5 of 10\n",
      "building tree 6 of 10\n",
      "building tree 7 of 10\n",
      "building tree 8 of 10\n",
      "building tree 9 of 10\n",
      "building tree 10 of 10\n"
     ]
    },
    {
     "name": "stderr",
     "output_type": "stream",
     "text": [
      "[Parallel(n_jobs=1)]: Done  10 out of  10 | elapsed: 13.5min finished\n",
      "[Parallel(n_jobs=1)]: Done   1 out of   1 | elapsed:    0.1s remaining:    0.0s\n",
      "[Parallel(n_jobs=1)]: Done   2 out of   2 | elapsed:    0.2s remaining:    0.0s\n",
      "[Parallel(n_jobs=1)]: Done  10 out of  10 | elapsed:    0.9s finished\n",
      "[Parallel(n_jobs=1)]: Done   1 out of   1 | elapsed:    0.0s remaining:    0.0s\n",
      "[Parallel(n_jobs=1)]: Done   2 out of   2 | elapsed:    0.0s remaining:    0.0s\n",
      "[Parallel(n_jobs=1)]: Done  10 out of  10 | elapsed:    0.0s finished\n"
     ]
    },
    {
     "name": "stdout",
     "output_type": "stream",
     "text": [
      "Fitting a random forest to training data using domain adaptation, ITERATION: 6\n",
      "building tree 1 of 10\n"
     ]
    },
    {
     "name": "stderr",
     "output_type": "stream",
     "text": [
      "[Parallel(n_jobs=1)]: Done   1 out of   1 | elapsed:  1.3min remaining:    0.0s\n"
     ]
    },
    {
     "name": "stdout",
     "output_type": "stream",
     "text": [
      "building tree 2 of 10\n"
     ]
    },
    {
     "name": "stderr",
     "output_type": "stream",
     "text": [
      "[Parallel(n_jobs=1)]: Done   2 out of   2 | elapsed:  2.5min remaining:    0.0s\n"
     ]
    },
    {
     "name": "stdout",
     "output_type": "stream",
     "text": [
      "building tree 3 of 10\n",
      "building tree 4 of 10\n",
      "building tree 5 of 10\n",
      "building tree 6 of 10\n",
      "building tree 7 of 10\n",
      "building tree 8 of 10\n",
      "building tree 9 of 10\n",
      "building tree 10 of 10\n"
     ]
    },
    {
     "name": "stderr",
     "output_type": "stream",
     "text": [
      "[Parallel(n_jobs=1)]: Done  10 out of  10 | elapsed: 13.8min finished\n",
      "[Parallel(n_jobs=1)]: Done   1 out of   1 | elapsed:    0.1s remaining:    0.0s\n",
      "[Parallel(n_jobs=1)]: Done   2 out of   2 | elapsed:    0.2s remaining:    0.0s\n",
      "[Parallel(n_jobs=1)]: Done  10 out of  10 | elapsed:    1.2s finished\n",
      "[Parallel(n_jobs=1)]: Done   1 out of   1 | elapsed:    0.0s remaining:    0.0s\n",
      "[Parallel(n_jobs=1)]: Done   2 out of   2 | elapsed:    0.0s remaining:    0.0s\n",
      "[Parallel(n_jobs=1)]: Done  10 out of  10 | elapsed:    0.0s finished\n"
     ]
    },
    {
     "name": "stdout",
     "output_type": "stream",
     "text": [
      "Fitting a random forest to training data using domain adaptation, ITERATION: 7\n",
      "building tree 1 of 10\n"
     ]
    },
    {
     "name": "stderr",
     "output_type": "stream",
     "text": [
      "[Parallel(n_jobs=1)]: Done   1 out of   1 | elapsed:  1.4min remaining:    0.0s\n"
     ]
    },
    {
     "name": "stdout",
     "output_type": "stream",
     "text": [
      "building tree 2 of 10\n"
     ]
    },
    {
     "name": "stderr",
     "output_type": "stream",
     "text": [
      "[Parallel(n_jobs=1)]: Done   2 out of   2 | elapsed:  2.8min remaining:    0.0s\n"
     ]
    },
    {
     "name": "stdout",
     "output_type": "stream",
     "text": [
      "building tree 3 of 10\n",
      "building tree 4 of 10\n",
      "building tree 5 of 10\n",
      "building tree 6 of 10\n",
      "building tree 7 of 10\n",
      "building tree 8 of 10\n",
      "building tree 9 of 10\n",
      "building tree 10 of 10\n"
     ]
    },
    {
     "name": "stderr",
     "output_type": "stream",
     "text": [
      "[Parallel(n_jobs=1)]: Done  10 out of  10 | elapsed: 14.0min finished\n",
      "[Parallel(n_jobs=1)]: Done   1 out of   1 | elapsed:    0.1s remaining:    0.0s\n",
      "[Parallel(n_jobs=1)]: Done   2 out of   2 | elapsed:    0.2s remaining:    0.0s\n",
      "[Parallel(n_jobs=1)]: Done  10 out of  10 | elapsed:    1.0s finished\n",
      "[Parallel(n_jobs=1)]: Done   1 out of   1 | elapsed:    0.0s remaining:    0.0s\n",
      "[Parallel(n_jobs=1)]: Done   2 out of   2 | elapsed:    0.0s remaining:    0.0s\n",
      "[Parallel(n_jobs=1)]: Done  10 out of  10 | elapsed:    0.0s finished\n"
     ]
    },
    {
     "name": "stdout",
     "output_type": "stream",
     "text": [
      "Fitting a random forest to training data using domain adaptation, ITERATION: 8\n",
      "building tree 1 of 10\n"
     ]
    },
    {
     "name": "stderr",
     "output_type": "stream",
     "text": [
      "[Parallel(n_jobs=1)]: Done   1 out of   1 | elapsed:  1.4min remaining:    0.0s\n"
     ]
    },
    {
     "name": "stdout",
     "output_type": "stream",
     "text": [
      "building tree 2 of 10\n"
     ]
    },
    {
     "name": "stderr",
     "output_type": "stream",
     "text": [
      "[Parallel(n_jobs=1)]: Done   2 out of   2 | elapsed:  2.7min remaining:    0.0s\n"
     ]
    },
    {
     "name": "stdout",
     "output_type": "stream",
     "text": [
      "building tree 3 of 10\n",
      "building tree 4 of 10\n",
      "building tree 5 of 10\n",
      "building tree 6 of 10\n",
      "building tree 7 of 10\n",
      "building tree 8 of 10\n",
      "building tree 9 of 10\n",
      "building tree 10 of 10\n"
     ]
    },
    {
     "name": "stderr",
     "output_type": "stream",
     "text": [
      "[Parallel(n_jobs=1)]: Done  10 out of  10 | elapsed: 13.8min finished\n",
      "[Parallel(n_jobs=1)]: Done   1 out of   1 | elapsed:    0.1s remaining:    0.0s\n",
      "[Parallel(n_jobs=1)]: Done   2 out of   2 | elapsed:    0.2s remaining:    0.0s\n",
      "[Parallel(n_jobs=1)]: Done  10 out of  10 | elapsed:    1.3s finished\n",
      "[Parallel(n_jobs=1)]: Done   1 out of   1 | elapsed:    0.0s remaining:    0.0s\n",
      "[Parallel(n_jobs=1)]: Done   2 out of   2 | elapsed:    0.0s remaining:    0.0s\n",
      "[Parallel(n_jobs=1)]: Done  10 out of  10 | elapsed:    0.0s finished\n"
     ]
    },
    {
     "name": "stdout",
     "output_type": "stream",
     "text": [
      "Fitting a random forest to training data using domain adaptation, ITERATION: 9\n",
      "building tree 1 of 10\n"
     ]
    },
    {
     "name": "stderr",
     "output_type": "stream",
     "text": [
      "[Parallel(n_jobs=1)]: Done   1 out of   1 | elapsed:  1.4min remaining:    0.0s\n"
     ]
    },
    {
     "name": "stdout",
     "output_type": "stream",
     "text": [
      "building tree 2 of 10\n"
     ]
    },
    {
     "name": "stderr",
     "output_type": "stream",
     "text": [
      "[Parallel(n_jobs=1)]: Done   2 out of   2 | elapsed:  2.9min remaining:    0.0s\n"
     ]
    },
    {
     "name": "stdout",
     "output_type": "stream",
     "text": [
      "building tree 3 of 10\n",
      "building tree 4 of 10\n",
      "building tree 5 of 10\n",
      "building tree 6 of 10\n",
      "building tree 7 of 10\n",
      "building tree 8 of 10\n",
      "building tree 9 of 10\n",
      "building tree 10 of 10\n"
     ]
    },
    {
     "name": "stderr",
     "output_type": "stream",
     "text": [
      "[Parallel(n_jobs=1)]: Done  10 out of  10 | elapsed: 14.6min finished\n",
      "[Parallel(n_jobs=1)]: Done   1 out of   1 | elapsed:    0.1s remaining:    0.0s\n",
      "[Parallel(n_jobs=1)]: Done   2 out of   2 | elapsed:    0.2s remaining:    0.0s\n",
      "[Parallel(n_jobs=1)]: Done  10 out of  10 | elapsed:    1.2s finished\n",
      "[Parallel(n_jobs=1)]: Done   1 out of   1 | elapsed:    0.0s remaining:    0.0s\n",
      "[Parallel(n_jobs=1)]: Done   2 out of   2 | elapsed:    0.0s remaining:    0.0s\n",
      "[Parallel(n_jobs=1)]: Done  10 out of  10 | elapsed:    0.0s finished\n"
     ]
    },
    {
     "name": "stdout",
     "output_type": "stream",
     "text": [
      "Fitting a random forest to training data using domain adaptation, ITERATION: 10\n",
      "building tree 1 of 10\n"
     ]
    },
    {
     "name": "stderr",
     "output_type": "stream",
     "text": [
      "[Parallel(n_jobs=1)]: Done   1 out of   1 | elapsed:  1.4min remaining:    0.0s\n"
     ]
    },
    {
     "name": "stdout",
     "output_type": "stream",
     "text": [
      "building tree 2 of 10\n"
     ]
    },
    {
     "name": "stderr",
     "output_type": "stream",
     "text": [
      "[Parallel(n_jobs=1)]: Done   2 out of   2 | elapsed:  2.8min remaining:    0.0s\n"
     ]
    },
    {
     "name": "stdout",
     "output_type": "stream",
     "text": [
      "building tree 3 of 10\n",
      "building tree 4 of 10\n",
      "building tree 5 of 10\n",
      "building tree 6 of 10\n",
      "building tree 7 of 10\n",
      "building tree 8 of 10\n",
      "building tree 9 of 10\n",
      "building tree 10 of 10\n"
     ]
    },
    {
     "name": "stderr",
     "output_type": "stream",
     "text": [
      "[Parallel(n_jobs=1)]: Done  10 out of  10 | elapsed: 13.7min finished\n",
      "[Parallel(n_jobs=1)]: Done   1 out of   1 | elapsed:    0.1s remaining:    0.0s\n",
      "[Parallel(n_jobs=1)]: Done   2 out of   2 | elapsed:    0.2s remaining:    0.0s\n",
      "[Parallel(n_jobs=1)]: Done  10 out of  10 | elapsed:    1.1s finished\n",
      "[Parallel(n_jobs=1)]: Done   1 out of   1 | elapsed:    0.0s remaining:    0.0s\n",
      "[Parallel(n_jobs=1)]: Done   2 out of   2 | elapsed:    0.1s remaining:    0.0s\n",
      "[Parallel(n_jobs=1)]: Done  10 out of  10 | elapsed:    0.4s finished\n"
     ]
    }
   ],
   "source": [
    "from sklearn.ensemble import RandomForestClassifier\n",
    "import numpy as np\n",
    "forest = RandomForestClassifier( n_estimators = 10, max_features = None,verbose=3 )\n",
    "\n",
    "# Training and predicting for only annotated dataset:\n",
    "print (\"Fitting a random forest to labeled training data....\")\n",
    "\n",
    "forest = forest.fit(X_train, y_train,sample_weight= sample_weights) \n",
    "\n",
    "result_train = forest.predict(X_train)\n",
    "result_test = forest.predict(X_test)\n",
    "\n",
    "iteration = 1\n",
    "# Training and predicting using domain adaptation in an iterative fashion:\n",
    "for i in xrange(0,10000,1000):\n",
    "    print (\"Fitting a random forest to training data using domain adaptation, ITERATION: \"+str(iteration))\n",
    "    \n",
    "    # Predicting on a small subset of the unannotated dataset:\n",
    "    subset_results = forest.predict(EmoHashVecs[0+i:1000+i])\n",
    "    X_train = np.concatenate((X_train,EmoHashVecs[0+i:1000+i]))\n",
    "    y_train = np.concatenate((y_train,subset_results))\n",
    "    \n",
    "    # Retraining model on the new annotated dataset:\n",
    "    \n",
    "    forest = forest.fit(X_train, y_train) \n",
    "    result_train = forest.predict(X_train)\n",
    "    \n",
    "    iteration = iteration + 1\n",
    "\n",
    "result_test = forest.predict(X_test) # New Predictions for test dataset    "
   ]
  },
  {
   "cell_type": "code",
   "execution_count": 24,
   "metadata": {
    "collapsed": false
   },
   "outputs": [
    {
     "name": "stderr",
     "output_type": "stream",
     "text": [
      "[Parallel(n_jobs=1)]: Done   1 out of   1 | elapsed:    0.2s remaining:    0.0s\n",
      "[Parallel(n_jobs=1)]: Done   2 out of   2 | elapsed:    0.4s remaining:    0.0s\n",
      "[Parallel(n_jobs=1)]: Done  10 out of  10 | elapsed:    2.2s finished\n"
     ]
    }
   ],
   "source": [
    "result_dialog_rf_da = forest.predict(UnannotatedVecs)\n",
    "whole_df['RF 300 dim 10 trees'] = result_dialog_rf_da#= pd.read_csv('/home/meryem/Dropbox/meryem/algorithms/EmotionRecognition/FinalResults/Unannotated_Representation_Whole.csv')\n",
    "whole_df.to_csv('/home/meryem/Dropbox/meryem/algorithms/EmotionRecognition/FinalResults/RF_300dim_10trees_dom_adapt.csv')"
   ]
  },
  {
   "cell_type": "code",
   "execution_count": null,
   "metadata": {
    "collapsed": false,
    "scrolled": true
   },
   "outputs": [],
   "source": [
    "# Fit a random forest to the training data, using 100 trees\n",
    "from sklearn.ensemble import RandomForestClassifier\n",
    "forest = RandomForestClassifier( n_estimators = 10, max_features = 10,verbose=3 )\n",
    "\n",
    "print (\"Fitting a random forest to labeled training data...\")\n",
    "\n",
    "#kf = KFold(n_splits=4)\n",
    "#for train, test in kf.split(X):\n",
    "#X_train, X_test, y_train, y_test = X[train], X[test], y[train], y[test]\n",
    "forest = forest.fit(X_train, y_train) \n",
    "result = forest.predict(X_test)\n",
    "result"
   ]
  },
  {
   "cell_type": "code",
   "execution_count": null,
   "metadata": {
    "collapsed": true
   },
   "outputs": [],
   "source": [
    "emo_dict= {\n",
    "    '1' :'Involvement-Interest',\n",
    "    '2': 'Amusement-Laughter',\n",
    "    '3': 'Pride-Elation',\n",
    "    '4': 'Happiness-Joy',\n",
    "    '5': 'Enjoyment-Pleasure',\n",
    "    '6': 'Tenderness-Feeling Love',\n",
    "    '7': 'Wonderment-Feeling Awe',\n",
    "    '8': 'Feeling Disburdened- Relief', \n",
    "    '9': 'Astonishment- Surprise',\n",
    "    '10': 'Longing- Nostalgia',\n",
    "    '11': 'Pity-Compassion',\n",
    "    '12': 'Sadness-Despair',\n",
    "    '13': 'Worry-Fear',\n",
    "    '14': 'Embarrassement-Shame',\n",
    "    '15': 'Guilt-Remorse',\n",
    "    '16': 'Disappointment- Regret',\n",
    "    '17': 'Envy-Jealousy',\n",
    "    '18': 'Disgust-Repulsion',\n",
    "    '19': 'Contempt-Scorn',\n",
    "    '20': 'Irritation-Anger'\n",
    "    }\n",
    "\n",
    "subtitles_results = forest.predict()"
   ]
  },
  {
   "cell_type": "code",
   "execution_count": null,
   "metadata": {
    "collapsed": false
   },
   "outputs": [],
   "source": [
    "result_train = forest.predict(X_train)"
   ]
  },
  {
   "cell_type": "code",
   "execution_count": 36,
   "metadata": {
    "collapsed": true
   },
   "outputs": [],
   "source": [
    "import cPickle\n",
    "\n",
    "\n",
    "with open('/home/meryem/Dropbox/meryem/algorithms/EmotionRecognition/FinalResults/Models/RandomForestModel.pickle', 'wb') as f:\n",
    "    cPickle.dump(forest, f)\n",
    "\n",
    "\n",
    "# in your prediction file                                                                                                                                                                                                           \n",
    "\n",
    "#with open('path/to/file', 'rb') as f:\n",
    "#rf = cPickle.load(f)\n",
    "\n",
    "\n",
    "#preds = rf.predict(new_X)"
   ]
  },
  {
   "cell_type": "code",
   "execution_count": 59,
   "metadata": {
    "collapsed": false
   },
   "outputs": [
    {
     "name": "stderr",
     "output_type": "stream",
     "text": [
      "[Parallel(n_jobs=1)]: Done   1 out of   1 | elapsed:    0.2s remaining:    0.0s\n",
      "[Parallel(n_jobs=1)]: Done   2 out of   2 | elapsed:    0.2s remaining:    0.0s\n",
      "[Parallel(n_jobs=1)]: Done  10 out of  10 | elapsed:    1.1s finished\n"
     ]
    }
   ],
   "source": [
    "# in your prediction file                                                                                                                                                                                                           \n",
    "import cPickle\n",
    "\n",
    "with open('/home/meryem/Dropbox/meryem/algorithms/EmotionRecognition/FinalResults/Models/RandomForestModel.pickle', 'rb') as f:\n",
    "    rf = cPickle.load(f)\n",
    "\n",
    "preds = rf.predict(X_train)"
   ]
  },
  {
   "cell_type": "code",
   "execution_count": 61,
   "metadata": {
    "collapsed": false
   },
   "outputs": [
    {
     "name": "stderr",
     "output_type": "stream",
     "text": [
      "[Parallel(n_jobs=1)]: Done   1 out of   1 | elapsed:    0.0s remaining:    0.0s\n",
      "[Parallel(n_jobs=1)]: Done   2 out of   2 | elapsed:    0.1s remaining:    0.0s\n",
      "[Parallel(n_jobs=1)]: Done  10 out of  10 | elapsed:    0.6s finished\n"
     ]
    }
   ],
   "source": [
    "test_preds = rf.predict(X_test)"
   ]
  },
  {
   "cell_type": "code",
   "execution_count": 35,
   "metadata": {
    "collapsed": false
   },
   "outputs": [
    {
     "name": "stdout",
     "output_type": "stream",
     "text": [
      "[[12707    13     9     9    19     6     6    19     6     6     5    16\n",
      "     21     6     7    16     7     2     0    10   161]\n",
      " [   19  6741    13    26    53    13     8    38    10     8     5     6\n",
      "     24     7     8    11     8     5     1    12   150]\n",
      " [    9    11  6310    27    49    24     1    16     8     8     6     7\n",
      "     10     6     5     8     7     2     1     9    84]\n",
      " [   12    33    23  5936    87    60    10    65    11     5     6    22\n",
      "     29     5    10     6    12     0     0    11   149]\n",
      " [   10    19    12    34  6135     7    11    60    13    12     4     8\n",
      "     22     5    14    13     5     7     0    11   160]\n",
      " [   16    30    25    56    41  6100    14    22    13     9    10    14\n",
      "     11     4     6    11    14     1     0    13   111]\n",
      " [    9     9     7    14    17    12  6278    12    12     9     3     4\n",
      "     10     1     8     4     6     3     0    10    89]\n",
      " [   21    15    14    42    81     3    13  6032    14    11     9     7\n",
      "     35    11     8    12     9     1     0    14   182]\n",
      " [   23    21    14    20    54    12    17    27  6158     7     3     6\n",
      "     22     7     3    20    12     2     0    15   150]\n",
      " [   15     8     6    13    25    10     6    19     9  6252     2    10\n",
      "     13     2     0     7    17     0     0     3   121]\n",
      " [   15    15     7     4    11    12    14     8     6     2  6310    10\n",
      "     12     6     4    18     6     3     0    16   102]\n",
      " [   25    15     9    26    36    10     4    31    13    14    16  6014\n",
      "     26     6    12    35    15     7     0    62   171]\n",
      " [   15    13     7    20    24    10     5    34     8     4     5    18\n",
      "   6198     6     8    20     7     4     1    22   174]\n",
      " [   21     4    10     6    15     2     3    12     6    13    15     8\n",
      "     12  6201    12    28     6    16     1    11   109]\n",
      " [   21    11    10    13    21    14     8    21     8     3    10    17\n",
      "     23    13  6213    21     7     7     0    21   139]\n",
      " [   23    12    10    21    48     5     7    23     8    12    14    25\n",
      "     28    22    17  5982     4     6     1    35   219]\n",
      " [   10    13    11    17    25    10     9     7    11     6     9     9\n",
      "     30     5    12    13  6218     1     2    15   118]\n",
      " [   15     9     6     8    17     3     4     5     3    11     3     9\n",
      "     11    20     8    12     5  6287     2    29    72]\n",
      " [    1     1     0     1     0     0     1     3     0     0     6     1\n",
      "      1     4     2     4     2     3   687     3    12]\n",
      " [   22    12     7    16    20    11     5    32    10     9    10    32\n",
      "     40    17    13    28    14    11     0  6124   162]\n",
      " [   23    16    11    14    73    10    17    61    21    24     9    24\n",
      "     27     8    21    25    30     7     0    25  6321]]\n"
     ]
    }
   ],
   "source": [
    "cm=metrics.confusion_matrix(y_train, result_train)\n",
    "print(cm)"
   ]
  },
  {
   "cell_type": "code",
   "execution_count": 33,
   "metadata": {
    "collapsed": false
   },
   "outputs": [
    {
     "data": {
      "image/png": "[encoded data removed]",
      "text/plain": [
       "<matplotlib.figure.Figure at 0x7f5d3b6bc850>"
      ]
     },
     "metadata": {},
     "output_type": "display_data"
    }
   ],
   "source": [
    "%matplotlib inline\n",
    "plot_confusion_matrix(cm, classes=['Light','Dark'],\n",
    "                      title='Testing Dataset Confusion matrix')"
   ]
  },
  {
   "cell_type": "code",
   "execution_count": null,
   "metadata": {
    "collapsed": false
   },
   "outputs": [],
   "source": [
    "whole_df['RF 10 dim 10 trees No domain Adaptation'] = result_dialogue#= pd.read_csv('/home/meryem/Dropbox/meryem/algorithms/EmotionRecognition/FinalResults/Unannotated_Representation_Whole.csv')\n",
    "whole_df.to_csv('/home/meryem/Dropbox/meryem/algorithms/EmotionRecognition/FinalResults/RF_10dim_10trees_no_dom_adapt.csv')"
   ]
  },
  {
   "cell_type": "code",
   "execution_count": null,
   "metadata": {
    "collapsed": false
   },
   "outputs": [],
   "source": [
    "#X_test = EmoHashVecs[1650142:2357347]\n",
    "#y_test = full_emohash_tweets['EmotionId'][1650142:2357347]\n",
    "#result = forest.predict(X_test, y_test)\n",
    "result_test = forest.predict(X_test)\n",
    "#partial_emohash_tweets.loc[0]['EmotionId']"
   ]
  },
  {
   "cell_type": "code",
   "execution_count": null,
   "metadata": {
    "collapsed": false
   },
   "outputs": [],
   "source": [
    "result_dialogue = forest.predict(UnannotatedVecs)"
   ]
  },
  {
   "cell_type": "markdown",
   "metadata": {},
   "source": [
    "### Naive Bayes:"
   ]
  },
  {
   "cell_type": "code",
   "execution_count": 11,
   "metadata": {
    "collapsed": false,
    "scrolled": true
   },
   "outputs": [],
   "source": [
    "from sklearn import datasets\n",
    "iris = datasets.load_iris()\n",
    "from sklearn.naive_bayes import BernoulliNB\n",
    "gnb = BernoulliNB()\n",
    "model_be = gnb.fit(X_train, y_train)\n",
    "y_pred=model_be.predict(X_test)\n",
    "#print(\"Number of mislabeled points out of a total %d points : %d\" % (iris.data.shape[0],(iris.target != y_pred).sum()))"
   ]
  },
  {
   "cell_type": "code",
   "execution_count": 13,
   "metadata": {
    "collapsed": false
   },
   "outputs": [],
   "source": [
    "train_results = model_be.predict(X_train)"
   ]
  },
  {
   "cell_type": "code",
   "execution_count": 19,
   "metadata": {
    "collapsed": false
   },
   "outputs": [
    {
     "data": {
      "text/plain": [
       "21"
      ]
     },
     "execution_count": 19,
     "metadata": {},
     "output_type": "execute_result"
    }
   ],
   "source": [
    "len(set(train_results))"
   ]
  },
  {
   "cell_type": "code",
   "execution_count": 62,
   "metadata": {
    "collapsed": false
   },
   "outputs": [
    {
     "name": "stdout",
     "output_type": "stream",
     "text": [
      "('Accuracy Score: ', 0.70016081527925844)\n",
      "('micro Precision Score: ', 0.70016081527925844)\n",
      "('micro Recall Score: ', 0.70016081527925844)\n",
      "('micro f1_score: ', 0.70016081527925844)\n",
      "('macro Precision Score: ', 0.69553813349045812)\n",
      "('macro Recall Score: ', 0.72044137351325388)\n",
      "('macro f1_score: ', 0.70355692210463494)\n",
      "('roc_auc_score: ', 0.78022094048477431)\n"
     ]
    }
   ],
   "source": [
    "from sklearn import metrics\n",
    "print('Accuracy Score: ',metrics.accuracy_score(test_preds, y_test))\n",
    "\n",
    "print('micro Precision Score: ',metrics.precision_score(test_preds, y_test, average='micro'))\n",
    "print('micro Recall Score: ',metrics.recall_score(test_preds, y_test, average='micro'))\n",
    "print('micro f1_score: ',metrics.f1_score(test_preds, y_test, average='micro'))\n",
    "\n",
    "print('macro Precision Score: ',metrics.precision_score(test_preds, y_test, average='macro'))\n",
    "print('macro Recall Score: ',metrics.recall_score(test_preds, y_test, average='macro'))\n",
    "print('macro f1_score: ',metrics.f1_score(test_preds, y_test, average='macro'))\n",
    "\n",
    "\n",
    "# Customized Version of AUC for multiple classes\n",
    "fpr, tpr, thresholds = metrics.roc_curve(test_preds, y_test, pos_label=21)\n",
    "print('roc_auc_score: ',metrics.auc(fpr, tpr))"
   ]
  },
  {
   "cell_type": "code",
   "execution_count": 46,
   "metadata": {
    "collapsed": true
   },
   "outputs": [],
   "source": [
    "import matplotlib.pyplot as plt\n",
    "from sklearn import metrics\n",
    "def plot_confusion_matrix(cm, classes,\n",
    "                          normalize=False,\n",
    "                          title='Confusion matrix',\n",
    "                          cmap=plt.cm.Blues):\n",
    "    \"\"\"\n",
    "    This function prints and plots the confusion matrix.\n",
    "    Normalization can be applied by setting `normalize=True`.\n",
    "    \"\"\"\n",
    "    plt.imshow(cm, interpolation='nearest', cmap=cmap,aspect='auto')\n",
    "    plt.title(title)\n",
    "    plt.colorbar()\n",
    "    tick_marks = np.arange(len(classes))\n",
    "    plt.xticks(tick_marks, classes, rotation=90)\n",
    "    plt.yticks(tick_marks, classes)\n",
    "    plt.tight_layout()\n",
    "    plt.ylabel('True label')\n",
    "    plt.xlabel('Predicted label') "
   ]
  },
  {
   "cell_type": "code",
   "execution_count": 51,
   "metadata": {
    "collapsed": false
   },
   "outputs": [
    {
     "data": {
      "image/png": "[encoded data removed]",
      "text/plain": [
       "<matplotlib.figure.Figure at 0x7f07f8e4b7d0>"
      ]
     },
     "metadata": {},
     "output_type": "display_data"
    }
   ],
   "source": [
    "class_labels = ['Interest','Amusement','Pride','Happiness','Pleasure','Feeling Love','Wonderment','Relief', 'Surprise','Nostalgia','Pity','Sadness','Worry','Embarrassement','Guilt','Disappointment','Envy','Disgust','Contempt','Anger','Neutral']\n",
    "\n",
    "from sklearn import metrics\n",
    "\n",
    "cm=metrics.confusion_matrix(y_train, train_results)\n",
    "#print(cm)\n",
    "\n",
    "%matplotlib inline\n",
    "plot_confusion_matrix(cm, classes=class_labels,\n",
    "                      title='Training Dataset Confusion matrix Using Naive Bayes Bernoulli')"
   ]
  },
  {
   "cell_type": "code",
   "execution_count": null,
   "metadata": {
    "collapsed": true
   },
   "outputs": [],
   "source": [
    "y_pred = model_be.predict(UnannotatedVecs)\n",
    "whole_df['Naive Bayes No c No domain Adaptation'] = y_pred#= pd.read_csv('/home/meryem/Dropbox/meryem/algorithms/EmotionRecognition/FinalResults/Unannotated_Representation_Whole.csv')\n",
    "whole_df.to_csv('/home/meryem/Dropbox/meryem/algorithms/EmotionRecognition/FinalResults/NB_bernoulli_no_cv_no_dom_adapt.csv')"
   ]
  },
  {
   "cell_type": "code",
   "execution_count": 52,
   "metadata": {
    "collapsed": true
   },
   "outputs": [],
   "source": [
    "def plot_learning_curve(estimator,X,Y,cv=3):\n",
    "    \"\"\" Plotting the learning curve (accuracy score) for training and testing data by trying for different sizes of data\"\"\"\n",
    "    plt.figure()\n",
    "    plt.xlabel(\"Training examples\")\n",
    "    plt.ylabel(\"Score\")\n",
    "    train_sizes, train_scores, test_scores = learning_curve(estimator, X, Y, cv=cv, train_sizes=np.linspace(0.2,1,5))\n",
    "    train_scores_mean = np.mean(train_scores, axis=1)\n",
    "    train_scores_std = np.std(train_scores, axis=1)\n",
    "    test_scores_mean = np.mean(test_scores, axis=1)\n",
    "    test_scores_std = np.std(test_scores, axis=1)\n",
    "    plt.grid()\n",
    "\n",
    "    plt.fill_between(train_sizes, train_scores_mean - train_scores_std,\n",
    "                    train_scores_mean + train_scores_std, alpha=0.1, color=\"b\")\n",
    "    plt.fill_between(train_sizes, test_scores_mean - test_scores_std,\n",
    "                    test_scores_mean + test_scores_std, alpha=0.1, color=\"r\")\n",
    "    plt.plot(train_sizes, train_scores_mean, 'o-', color=\"b\",\n",
    "            label=\"Training score\")\n",
    "    plt.plot(train_sizes, test_scores_mean, 'o-', color=\"r\",\n",
    "            label=\"Cross-validation score\")\n",
    "    plt.legend(loc=\"best\")\n",
    "plt.show()"
   ]
  },
  {
   "cell_type": "code",
   "execution_count": 53,
   "metadata": {
    "collapsed": false,
    "scrolled": true
   },
   "outputs": [
    {
     "data": {
      "image/png": "[encoded data removed]",
      "text/plain": [
       "<matplotlib.figure.Figure at 0x7f07f8714650>"
      ]
     },
     "metadata": {},
     "output_type": "display_data"
    }
   ],
   "source": [
    "from sklearn.model_selection import cross_val_score, train_test_split, cross_val_predict, learning_curve\n",
    "plot_learning_curve(model_be,EmoHashVecs,partial_emohash_tweets1['EmotionId'])   "
   ]
  },
  {
   "cell_type": "code",
   "execution_count": null,
   "metadata": {
    "collapsed": false
   },
   "outputs": [],
   "source": [
    "print('Accuracy Score: ',metrics.accuracy_score(y_train, result_train))\n",
    "\n",
    "print('micro Precision Score: ',metrics.precision_score(y_train, result_train, average='micro'))\n",
    "print('micro Recall Score: ',metrics.recall_score(y_train, result_train, average='micro'))\n",
    "print('micro f1_score: ',metrics.f1_score(y_train, result_train, average='micro'))\n",
    "\n",
    "print('macro Precision Score: ',metrics.precision_score(y_train, result_train, average='macro'))\n",
    "print('macro Recall Score: ',metrics.recall_score(y_train, result_train, average='macro'))\n",
    "print('macro f1_score: ',metrics.f1_score(y_train, result_train, average='macro'))\n",
    "\n",
    "\n",
    "# Customized Version of AUC for multiple classes\n",
    "fpr, tpr, thresholds = metrics.roc_curve(y_train, result_train, pos_label=9)\n",
    "print('roc_auc_score: ',metrics.auc(fpr, tpr))"
   ]
  },
  {
   "cell_type": "code",
   "execution_count": null,
   "metadata": {
    "collapsed": false
   },
   "outputs": [],
   "source": [
    "print('Accuracy Score: ',metrics.accuracy_score(y_test, result_test))\n",
    "\n",
    "print('micro Precision Score: ',metrics.precision_score(y_test, result_test, average='micro'))\n",
    "print('micro Recall Score: ',metrics.recall_score(y_test, result_test, average='micro'))\n",
    "print('micro f1_score: ',metrics.f1_score(y_test, result_test, average='micro'))\n",
    "\n",
    "print('macro Precision Score: ',metrics.precision_score(y_test, result_test, average='macro'))\n",
    "print('macro Recall Score: ',metrics.recall_score(y_test, result_test, average='macro'))\n",
    "print('macro f1_score: ',metrics.f1_score(y_test, result_test, average='macro'))\n",
    "\n",
    "\n",
    "# Customized Version of AUC for multiple classes\n",
    "fpr, tpr, thresholds = metrics.roc_curve(y_test, result_test, pos_label=9)\n",
    "print('roc_auc_score: ',metrics.auc(fpr, tpr))"
   ]
  },
  {
   "cell_type": "code",
   "execution_count": null,
   "metadata": {
    "collapsed": false
   },
   "outputs": [],
   "source": [
    "from sklearn.neighbors import NearestNeighbors\n",
    "import numpy as np\n",
    "X = np.array([[-1, -1], [-2, -1], [-3, -2], [1, 1], [2, 1], [3, 2]])\n",
    "nbrs = NearestNeighbors(n_neighbors=2, algorithm='ball_tree').fit(X_train)\n",
    "distances, indices = nbrs.kneighbors(X_train)"
   ]
  },
  {
   "cell_type": "code",
   "execution_count": null,
   "metadata": {
    "collapsed": false
   },
   "outputs": [],
   "source": [
    "validation_result = forest.predict(ValidationEmoHashVecs)"
   ]
  },
  {
   "cell_type": "code",
   "execution_count": null,
   "metadata": {
    "collapsed": false
   },
   "outputs": [],
   "source": [
    "#train_dataset[\"RandomForestEmotion\"]\n",
    "from sklearn.metrics import accuracy_score\n",
    "accuracy = accuracy_score(result_test,y_test)\n",
    "error_rate = 1 - accuracy\n",
    "accuracy"
   ]
  },
  {
   "cell_type": "code",
   "execution_count": null,
   "metadata": {
    "collapsed": false
   },
   "outputs": [],
   "source": [
    "# Validation Accuracy\n",
    "from sklearn.metrics import accuracy_score\n",
    "validation_accuracy = accuracy_score(validation_result,validation_emohash_tweets['EmotionId'])\n",
    "val_error_rate = 1 - validation_accuracy\n",
    "validation_accuracy"
   ]
  },
  {
   "cell_type": "code",
   "execution_count": null,
   "metadata": {
    "collapsed": false,
    "scrolled": true
   },
   "outputs": [],
   "source": [
    "from sklearn.metrics import confusion_matrix\n",
    "import matplotlib.pyplot as plt\n",
    "import pylab as pl\n",
    "labels = list(set(partial_emohash_tweets['EmotionId']))\n",
    "cm = confusion_matrix(result,partial_emohash_tweets['EmotionId'])\n",
    "print(cm)\n",
    "fig = plt.figure()\n",
    "ax = fig.add_subplot(111)\n",
    "cax = ax.matshow(cm)\n",
    "pl.title('Confusion matrix of Random Forest classifier Using GEW Short Version')\n",
    "fig.colorbar(cax)\n",
    "ax.set_xticklabels([''] + labels)\n",
    "ax.set_yticklabels([''] + labels)\n",
    "pl.xlabel('Predicted')\n",
    "pl.ylabel('True')\n",
    "pl.show()"
   ]
  },
  {
   "cell_type": "code",
   "execution_count": null,
   "metadata": {
    "collapsed": true
   },
   "outputs": [],
   "source": [
    "output = pd.DataFrame(data={\"id\":emohash_tweets['Tweet'], \"predicted emotion\":result} )\n",
    "output.to_csv( \"EmoHash_Random_Forest_Results.csv\", index=False, quoting=3 )"
   ]
  },
  {
   "cell_type": "code",
   "execution_count": null,
   "metadata": {
    "collapsed": false
   },
   "outputs": [],
   "source": [
    "result_test_subtitles = forest.predict(testDataVecs)"
   ]
  },
  {
   "cell_type": "code",
   "execution_count": null,
   "metadata": {
    "collapsed": false
   },
   "outputs": [],
   "source": [
    "result_test_subtitles"
   ]
  },
  {
   "cell_type": "code",
   "execution_count": null,
   "metadata": {
    "collapsed": true
   },
   "outputs": [],
   "source": [
    "output = pd.DataFrame( data={\"Subtitle\":episodes[\"Subtitle\"], \"emotion\":result_test_subtitles} )\n",
    "output.to_csv( \"RandomForestTestResultsGEW20Emotions.csv\")"
   ]
  }
 ],
 "metadata": {
  "kernelspec": {
   "display_name": "Python 3",
   "language": "python",
   "name": "python3"
  },
  "language_info": {
   "codemirror_mode": {
    "name": "ipython",
    "version": 3
   },
   "file_extension": ".py",
   "mimetype": "text/x-python",
   "name": "python",
   "nbconvert_exporter": "python",
   "pygments_lexer": "ipython3",
   "version": "3.6.0"
  }
 },
 "nbformat": 4,
 "nbformat_minor": 0
}
