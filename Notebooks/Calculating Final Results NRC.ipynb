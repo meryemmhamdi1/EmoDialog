{
 "cells": [
  {
   "cell_type": "code",
   "execution_count": 8,
   "metadata": {
    "collapsed": false
   },
   "outputs": [],
   "source": [
    "from imp import reload\n",
    "import pandas as pd\n",
    "from collections import Counter\n",
    "from __future__ import division\n",
    "import pandas as pd\n",
    "pd.set_option('display.max_rows', 10000)\n",
    "pd.set_option('display.max_columns', 500)\n",
    "pd.set_option('display.max_colwidth', 500)"
   ]
  },
  {
   "cell_type": "code",
   "execution_count": 2,
   "metadata": {
    "collapsed": false,
    "scrolled": true
   },
   "outputs": [
    {
     "data": {
      "text/plain": [
       "122"
      ]
     },
     "execution_count": 2,
     "metadata": {},
     "output_type": "execute_result"
    }
   ],
   "source": [
    "human_annotations = pd.read_excel(\"/Users/MeryemMhamdi/Dropbox/meryem/Deliverables/6. Human Validation/human_annotations.xls\")\n",
    "\n",
    "emo_dict= {\n",
    "    'Involvement-Interest': 1, \n",
    "    'Amusement-Laughter' : 2, \n",
    "    'Pride-Elation':3, \n",
    "    'Happiness-Joy':4,\n",
    "    'Enjoyment-Pleasure':5,\n",
    "    'Tenderness-Feeling Love':6,\n",
    "    'Wonderment-Feeling Awe':7,\n",
    "    'Feeling Disburdened- Relief':8, \n",
    "    'Astonishment- Surprise':9,\n",
    "    'Longing- Nostalgia':10,\n",
    "    'Pity-Compassion':11,\n",
    "    'Sadness-Despair':12,\n",
    "    'Worry-Fear':13,\n",
    "    'Embarrassement-Shame':14,\n",
    "    'Guilt-Remorse':15,\n",
    "    'Disappointment- Regret':16,\n",
    "    'Envy-Jealousy':17,\n",
    "    'Disgust-Repulsion':18,\n",
    "    'Contempt-Scorn':19,\n",
    "    'Irritation-Anger':20,\n",
    "    'Neutral':21,\n",
    "    'Arrogance-Disdain':22,\n",
    "    'Boredom':23,\n",
    "    'Light heartedness ':24\n",
    "}\n",
    "\n",
    "list_values = [20,1,18,13,4,21,12,9,25]\n",
    "human_annotations['Crowdsourced Truth IDs'] = human_annotations['Crowdsourced Truth'].map(emo_dict)\n",
    "human_annotations_nrc = human_annotations.loc[human_annotations['Crowdsourced Truth IDs'].isin(list_values)]\n",
    "crowdsourced_emotions_IDs = human_annotations_nrc['Crowdsourced Truth IDs']\n",
    "crowdsourced_emotions_IDs.head()\n",
    "len(crowdsourced_emotions_IDs)"
   ]
  },
  {
   "cell_type": "code",
   "execution_count": 3,
   "metadata": {
    "collapsed": false
   },
   "outputs": [],
   "source": [
    "list_individual_emotions = []\n",
    "for i in range(1,22):\n",
    "    list_individual_emotions_sub = []\n",
    "    for crowdsourced_emotion in crowdsourced_emotions_IDs:\n",
    "        if crowdsourced_emotion==i:\n",
    "            list_individual_emotions_sub.append(1)\n",
    "        else:\n",
    "            list_individual_emotions_sub.append(0)\n",
    "    list_individual_emotions.append(list_individual_emotions_sub)"
   ]
  },
  {
   "cell_type": "markdown",
   "metadata": {},
   "source": [
    "# NRC Validation:"
   ]
  },
  {
   "cell_type": "code",
   "execution_count": 9,
   "metadata": {
    "collapsed": false,
    "scrolled": false
   },
   "outputs": [
    {
     "data": {
      "text/html": [
       "<div>\n",
       "<style>\n",
       "    .dataframe thead tr:only-child th {\n",
       "        text-align: right;\n",
       "    }\n",
       "\n",
       "    .dataframe thead th {\n",
       "        text-align: left;\n",
       "    }\n",
       "\n",
       "    .dataframe tbody tr th {\n",
       "        vertical-align: top;\n",
       "    }\n",
       "</style>\n",
       "<table border=\"1\" class=\"dataframe\">\n",
       "  <thead>\n",
       "    <tr style=\"text-align: right;\">\n",
       "      <th></th>\n",
       "      <th>Unnamed: 0</th>\n",
       "      <th>Nava Tweet</th>\n",
       "      <th>Emotion</th>\n",
       "      <th>Emotion ID</th>\n",
       "      <th>Sentiment</th>\n",
       "      <th>Sentiment ID</th>\n",
       "      <th>Emotion Vectors</th>\n",
       "      <th>Sentiment Vectors</th>\n",
       "      <th>Crowdsourced Truth IDs</th>\n",
       "    </tr>\n",
       "  </thead>\n",
       "  <tbody>\n",
       "    <tr>\n",
       "      <th>0</th>\n",
       "      <td>0</td>\n",
       "      <td>[u'photon', u'direct', u'plane', u'slit', u'slit', u'observe', u'slit', u'unobserved', u'observe', u'leave', u'plane', u'hit', u'target', u'slit', 'not_go', 'not_go']</td>\n",
       "      <td>Neutral</td>\n",
       "      <td>8</td>\n",
       "      <td>Neutral</td>\n",
       "      <td>2</td>\n",
       "      <td>[0.0625, 0.0, 0.0, 0.0, 0.0, 0.0625, 0.0625, 0.0]</td>\n",
       "      <td>[0.2, 0.0]</td>\n",
       "      <td>21</td>\n",
       "    </tr>\n",
       "    <tr>\n",
       "      <th>1</th>\n",
       "      <td>1</td>\n",
       "      <td>[u'agree', u'point']</td>\n",
       "      <td>Neutral</td>\n",
       "      <td>8</td>\n",
       "      <td>Neutral</td>\n",
       "      <td>2</td>\n",
       "      <td>[0.0, 0.0, 0.0, 0.0, 0.0, 0.0, 0.0, 0.0]</td>\n",
       "      <td>[0.0, 0.1]</td>\n",
       "      <td>21</td>\n",
       "    </tr>\n",
       "    <tr>\n",
       "      <th>2</th>\n",
       "      <td>2</td>\n",
       "      <td>[u'think', u'good', u'tee', u'shirt', 'not_point']</td>\n",
       "      <td>Neutral</td>\n",
       "      <td>8</td>\n",
       "      <td>Neutral</td>\n",
       "      <td>2</td>\n",
       "      <td>[0.0, 0.2, 0.0, 0.0, 0.2, 0.0, 0.2, 0.2]</td>\n",
       "      <td>[0.0, 0.1]</td>\n",
       "      <td>21</td>\n",
       "    </tr>\n",
       "    <tr>\n",
       "      <th>3</th>\n",
       "      <td>3</td>\n",
       "      <td>[u'excuse']</td>\n",
       "      <td>Neutral</td>\n",
       "      <td>8</td>\n",
       "      <td>Neutral</td>\n",
       "      <td>2</td>\n",
       "      <td>[0.0, 0.0, 0.0, 0.0, 0.0, 0.0, 0.0, 0.0]</td>\n",
       "      <td>[0.1, 0.0]</td>\n",
       "      <td>21</td>\n",
       "    </tr>\n",
       "    <tr>\n",
       "      <th>4</th>\n",
       "      <td>4</td>\n",
       "      <td>[u'hang']</td>\n",
       "      <td>Neutral</td>\n",
       "      <td>8</td>\n",
       "      <td>Neutral</td>\n",
       "      <td>2</td>\n",
       "      <td>[0.0, 0.0, 0.0, 0.0, 0.0, 0.0, 0.0, 0.0]</td>\n",
       "      <td>[0.0, 0.0]</td>\n",
       "      <td>21</td>\n",
       "    </tr>\n",
       "  </tbody>\n",
       "</table>\n",
       "</div>"
      ],
      "text/plain": [
       "   Unnamed: 0  \\\n",
       "0           0   \n",
       "1           1   \n",
       "2           2   \n",
       "3           3   \n",
       "4           4   \n",
       "\n",
       "                                                                                                                                                               Nava Tweet  \\\n",
       "0  [u'photon', u'direct', u'plane', u'slit', u'slit', u'observe', u'slit', u'unobserved', u'observe', u'leave', u'plane', u'hit', u'target', u'slit', 'not_go', 'not_go']   \n",
       "1                                                                                                                                                    [u'agree', u'point']   \n",
       "2                                                                                                                      [u'think', u'good', u'tee', u'shirt', 'not_point']   \n",
       "3                                                                                                                                                             [u'excuse']   \n",
       "4                                                                                                                                                               [u'hang']   \n",
       "\n",
       "   Emotion  Emotion ID Sentiment  Sentiment ID  \\\n",
       "0  Neutral           8   Neutral             2   \n",
       "1  Neutral           8   Neutral             2   \n",
       "2  Neutral           8   Neutral             2   \n",
       "3  Neutral           8   Neutral             2   \n",
       "4  Neutral           8   Neutral             2   \n",
       "\n",
       "                                     Emotion Vectors Sentiment Vectors  \\\n",
       "0  [0.0625, 0.0, 0.0, 0.0, 0.0, 0.0625, 0.0625, 0.0]        [0.2, 0.0]   \n",
       "1           [0.0, 0.0, 0.0, 0.0, 0.0, 0.0, 0.0, 0.0]        [0.0, 0.1]   \n",
       "2           [0.0, 0.2, 0.0, 0.0, 0.2, 0.0, 0.2, 0.2]        [0.0, 0.1]   \n",
       "3           [0.0, 0.0, 0.0, 0.0, 0.0, 0.0, 0.0, 0.0]        [0.1, 0.0]   \n",
       "4           [0.0, 0.0, 0.0, 0.0, 0.0, 0.0, 0.0, 0.0]        [0.0, 0.0]   \n",
       "\n",
       "   Crowdsourced Truth IDs  \n",
       "0                      21  \n",
       "1                      21  \n",
       "2                      21  \n",
       "3                      21  \n",
       "4                      21  "
      ]
     },
     "execution_count": 9,
     "metadata": {},
     "output_type": "execute_result"
    }
   ],
   "source": [
    "nrc_results = pd.read_csv('/Users/MeryemMhamdi/Dropbox/meryem/Deliverables/3. Algorithms and Results/EmotionRecognition/Results/NRC/emotion_lexicon_vectors_nrc.csv')\n",
    "nrc_results.head()\n",
    "nrc_dict = {\n",
    " 'Anger':20,\n",
    " 'Anticipation':1,\n",
    " 'Disgust':18,\n",
    " 'Fear':13,\n",
    " 'Joy':4,\n",
    " 'Neutral':21,\n",
    " 'Sadness':12,\n",
    " 'Surprise':9,\n",
    " 'Trust':25\n",
    "}\n",
    "nrc_results_IDs = nrc_results['Crowdsourced Truth IDs'] = nrc_results['Emotion'].map(nrc_dict)\n",
    "nrc_validation_set_IDs = nrc_results_IDs.ix[crowdsourced_emotions_IDs.index]\n",
    "nrc_results.head()"
   ]
  },
  {
   "cell_type": "code",
   "execution_count": 10,
   "metadata": {
    "collapsed": false,
    "scrolled": true
   },
   "outputs": [
    {
     "data": {
      "text/plain": [
       "16671    21\n",
       "17369    21\n",
       "23371    13\n",
       "23827    21\n",
       "23878    21\n",
       "Name: Emotion, dtype: int64"
      ]
     },
     "execution_count": 10,
     "metadata": {},
     "output_type": "execute_result"
    }
   ],
   "source": [
    "nrc_validation_set_IDs.head()"
   ]
  },
  {
   "cell_type": "markdown",
   "metadata": {},
   "source": [
    "## 1. General:"
   ]
  },
  {
   "cell_type": "code",
   "execution_count": 11,
   "metadata": {
    "collapsed": false
   },
   "outputs": [
    {
     "name": "stdout",
     "output_type": "stream",
     "text": [
      "Accuracy Score:  0.245901639344\n",
      "micro Precision Score:  0.245901639344\n",
      "micro Recall Score:  0.245901639344\n",
      "micro f1_score:  0.245901639344\n",
      "macro Precision Score:  0.231826547044\n",
      "macro Recall Score:  0.157967032967\n",
      "macro f1_score:  0.148708518587\n",
      "roc_auc_score:  0.493920972644\n"
     ]
    }
   ],
   "source": [
    "from sklearn import metrics\n",
    "print('Accuracy Score: ',metrics.accuracy_score(crowdsourced_emotions_IDs, nrc_validation_set_IDs))\n",
    "\n",
    "print('micro Precision Score: ',metrics.precision_score(crowdsourced_emotions_IDs, nrc_validation_set_IDs, average='micro'))\n",
    "print('micro Recall Score: ',metrics.recall_score(crowdsourced_emotions_IDs, nrc_validation_set_IDs, average='micro'))\n",
    "print('micro f1_score: ',metrics.f1_score(crowdsourced_emotions_IDs, nrc_validation_set_IDs, average='micro'))\n",
    "\n",
    "print('macro Precision Score: ',metrics.precision_score(crowdsourced_emotions_IDs, nrc_validation_set_IDs, average='macro'))\n",
    "print('macro Recall Score: ',metrics.recall_score(crowdsourced_emotions_IDs, nrc_validation_set_IDs, average='macro'))\n",
    "print('macro f1_score: ',metrics.f1_score(crowdsourced_emotions_IDs, nrc_validation_set_IDs, average='macro'))\n",
    "\n",
    "\n",
    "# Customized Version of AUC for multiple classes\n",
    "fpr, tpr, thresholds = metrics.roc_curve(crowdsourced_emotions_IDs, nrc_validation_set_IDs, pos_label=21)\n",
    "print('roc_auc_score: ',metrics.auc(fpr, tpr))"
   ]
  },
  {
   "cell_type": "code",
   "execution_count": 12,
   "metadata": {
    "collapsed": false,
    "scrolled": true
   },
   "outputs": [
    {
     "data": {
      "text/plain": [
       "16671    21\n",
       "17369    21\n",
       "23371    13\n",
       "23827    21\n",
       "23878    21\n",
       "33987    21\n",
       "38457    21\n",
       "51240    21\n",
       "53333    21\n",
       "56441    21\n",
       "Name: Emotion, dtype: int64"
      ]
     },
     "execution_count": 12,
     "metadata": {},
     "output_type": "execute_result"
    }
   ],
   "source": [
    "nrc_validation_set_IDs.head(10)"
   ]
  },
  {
   "cell_type": "code",
   "execution_count": 13,
   "metadata": {
    "collapsed": false,
    "scrolled": true
   },
   "outputs": [
    {
     "data": {
      "text/plain": [
       "16671    21\n",
       "17369     1\n",
       "23371    13\n",
       "23827    13\n",
       "23878    18\n",
       "33987    12\n",
       "38457     1\n",
       "51240    21\n",
       "53333     4\n",
       "56441    20\n",
       "Name: Crowdsourced Truth IDs, dtype: int64"
      ]
     },
     "execution_count": 13,
     "metadata": {},
     "output_type": "execute_result"
    }
   ],
   "source": [
    "crowdsourced_emotions_IDs.head(10)"
   ]
  },
  {
   "cell_type": "markdown",
   "metadata": {},
   "source": [
    "## 2. Fine-Grained:"
   ]
  },
  {
   "cell_type": "code",
   "execution_count": 14,
   "metadata": {
    "collapsed": true
   },
   "outputs": [],
   "source": [
    "list_individual_emotions_lexicon = []\n",
    "for i in range(1,22):\n",
    "    list_individual_emotions_sub_lexicon = []\n",
    "    for lexicon_emotion in nrc_validation_set_IDs:\n",
    "        if lexicon_emotion ==i:\n",
    "            list_individual_emotions_sub_lexicon.append(1)\n",
    "        else:\n",
    "            list_individual_emotions_sub_lexicon.append(0)\n",
    "    list_individual_emotions_lexicon.append(list_individual_emotions_sub_lexicon)"
   ]
  },
  {
   "cell_type": "code",
   "execution_count": 16,
   "metadata": {
    "collapsed": false
   },
   "outputs": [
    {
     "name": "stdout",
     "output_type": "stream",
     "text": [
      "micro Precision Score:  0.217391304348\n",
      "micro Recall Score:  0.714285714286\n",
      "micro f1_score:  0.333333333333\n"
     ]
    }
   ],
   "source": [
    "from sklearn import metrics\n",
    "\n",
    "i = 20 # CHANGING THE ID OF THE EMOTION FOR ANALYSIS FOR A PARTICULAR EMOTION\n",
    "print('micro Precision Score: ',metrics.precision_score(list_individual_emotions[i],list_individual_emotions_lexicon[i] ))\n",
    "print('micro Recall Score: ',metrics.recall_score(list_individual_emotions[i],list_individual_emotions_lexicon[i] ))\n",
    "print('micro f1_score: ',metrics.f1_score(list_individual_emotions[i],list_individual_emotions_lexicon[i]))"
   ]
  }
 ],
 "metadata": {
  "anaconda-cloud": {},
  "kernelspec": {
   "display_name": "Python 3",
   "language": "python",
   "name": "python3"
  },
  "language_info": {
   "codemirror_mode": {
    "name": "ipython",
    "version": 3
   },
   "file_extension": ".py",
   "mimetype": "text/x-python",
   "name": "python",
   "nbconvert_exporter": "python",
   "pygments_lexer": "ipython3",
   "version": "3.6.0"
  }
 },
 "nbformat": 4,
 "nbformat_minor": 0
}
