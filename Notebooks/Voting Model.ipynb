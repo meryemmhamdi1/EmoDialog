{
 "cells": [
  {
   "cell_type": "code",
   "execution_count": 18,
   "metadata": {
    "collapsed": true
   },
   "outputs": [],
   "source": [
    "emo_dict= {\n",
    "    'Involvement-Interest': 1, \n",
    "    'Amusement-Laughter' : 2, \n",
    "    'Pride-Elation':3, \n",
    "    'Happiness-Joy':4,\n",
    "    'Enjoyment-Pleasure':5,\n",
    "    'Tenderness-Feeling Love':6,\n",
    "    'Wonderment-Feeling Awe':7,\n",
    "    'Feeling Disburdened- Relief':8, \n",
    "    'Astonishment- Surprise':9,\n",
    "    'Longing- Nostalgia':10,\n",
    "    'Pity-Compassion':11,\n",
    "    'Sadness-Despair':12,\n",
    "    'Worry-Fear':13,\n",
    "    'Embarrassement-Shame':14,\n",
    "    'Guilt-Remorse':15,\n",
    "    'Disappointment- Regret':16,\n",
    "    'Envy-Jealousy':17,\n",
    "    'Disgust-Repulsion':18,\n",
    "    'Contempt-Scorn':19,\n",
    "    'Irritation-Anger':20,\n",
    "    'Neutral':21,\n",
    "    'Arrogance-Disdain':22,\n",
    "    'Boredom':23,\n",
    "    'Light heartedness ':24\n",
    "}\n"
   ]
  },
  {
   "cell_type": "markdown",
   "metadata": {},
   "source": [
    "# I. Loading Results from Rule Based Lexicon"
   ]
  },
  {
   "cell_type": "code",
   "execution_count": 5,
   "metadata": {
    "collapsed": false
   },
   "outputs": [],
   "source": [
    "import pandas as pd\n",
    "dir_ = '/home/meryem/Dropbox/meryem/Deliverables/3. Algorithms and Results/EmotionRecognition/Results' \n",
    "lexicon_results_df = pd.read_csv(dir_+'/LexiconBased/Tweets_Labelled_Lexicon_Whole.csv')"
   ]
  },
  {
   "cell_type": "code",
   "execution_count": 20,
   "metadata": {
    "collapsed": false
   },
   "outputs": [],
   "source": [
    "lex_based_IDs = lexicon_results_df['Emotion'].map(emo_dict)"
   ]
  },
  {
   "cell_type": "markdown",
   "metadata": {},
   "source": [
    "# II. Loading Results from Rule Based PMI Extended"
   ]
  },
  {
   "cell_type": "code",
   "execution_count": 15,
   "metadata": {
    "collapsed": false
   },
   "outputs": [
    {
     "data": {
      "text/html": [
       "<div>\n",
       "<table border=\"1\" class=\"dataframe\">\n",
       "  <thead>\n",
       "    <tr style=\"text-align: right;\">\n",
       "      <th></th>\n",
       "      <th>Unnamed: 0</th>\n",
       "      <th>Nava Tweet</th>\n",
       "      <th>Emotion</th>\n",
       "    </tr>\n",
       "  </thead>\n",
       "  <tbody>\n",
       "    <tr>\n",
       "      <th>0</th>\n",
       "      <td>0</td>\n",
       "      <td>[u'photon', u'direct', u'plane', u'slit', u'sl...</td>\n",
       "      <td>Neutral</td>\n",
       "    </tr>\n",
       "    <tr>\n",
       "      <th>1</th>\n",
       "      <td>1</td>\n",
       "      <td>[u'agree', u'point']</td>\n",
       "      <td>Enjoyment-Pleasure</td>\n",
       "    </tr>\n",
       "    <tr>\n",
       "      <th>2</th>\n",
       "      <td>2</td>\n",
       "      <td>[u'think', u'good', u'tee', u'shirt', 'not_poi...</td>\n",
       "      <td>Neutral</td>\n",
       "    </tr>\n",
       "    <tr>\n",
       "      <th>3</th>\n",
       "      <td>3</td>\n",
       "      <td>[u'excuse']</td>\n",
       "      <td>Feeling Disburdened- Relief</td>\n",
       "    </tr>\n",
       "    <tr>\n",
       "      <th>4</th>\n",
       "      <td>4</td>\n",
       "      <td>[u'hang']</td>\n",
       "      <td>Embarrassement-Shame</td>\n",
       "    </tr>\n",
       "  </tbody>\n",
       "</table>\n",
       "</div>"
      ],
      "text/plain": [
       "   Unnamed: 0                                         Nava Tweet  \\\n",
       "0           0  [u'photon', u'direct', u'plane', u'slit', u'sl...   \n",
       "1           1                               [u'agree', u'point']   \n",
       "2           2  [u'think', u'good', u'tee', u'shirt', 'not_poi...   \n",
       "3           3                                        [u'excuse']   \n",
       "4           4                                          [u'hang']   \n",
       "\n",
       "                       Emotion  \n",
       "0                      Neutral  \n",
       "1           Enjoyment-Pleasure  \n",
       "2                      Neutral  \n",
       "3  Feeling Disburdened- Relief  \n",
       "4         Embarrassement-Shame  "
      ]
     },
     "execution_count": 15,
     "metadata": {},
     "output_type": "execute_result"
    }
   ],
   "source": [
    "pmi_results_df = pd.read_csv(dir_+'/PMIBased/Tweets_Labelled_PMI_Whole.csv')\n",
    "pmi_results_df.head()"
   ]
  },
  {
   "cell_type": "code",
   "execution_count": 21,
   "metadata": {
    "collapsed": true
   },
   "outputs": [],
   "source": [
    "pmi_based_IDs = pmi_results_df['Emotion'].map(emo_dict)"
   ]
  },
  {
   "cell_type": "markdown",
   "metadata": {},
   "source": [
    "# III. Loading Results from Rule Based Word2Vec Extended"
   ]
  },
  {
   "cell_type": "code",
   "execution_count": 16,
   "metadata": {
    "collapsed": false
   },
   "outputs": [
    {
     "data": {
      "text/html": [
       "<div>\n",
       "<table border=\"1\" class=\"dataframe\">\n",
       "  <thead>\n",
       "    <tr style=\"text-align: right;\">\n",
       "      <th></th>\n",
       "      <th>Unnamed: 0</th>\n",
       "      <th>Nava Tweet</th>\n",
       "      <th>Emotion</th>\n",
       "    </tr>\n",
       "  </thead>\n",
       "  <tbody>\n",
       "    <tr>\n",
       "      <th>0</th>\n",
       "      <td>0</td>\n",
       "      <td>[u'photon', u'direct', u'plane', u'slit', u'sl...</td>\n",
       "      <td>Envy-Jealousy</td>\n",
       "    </tr>\n",
       "    <tr>\n",
       "      <th>1</th>\n",
       "      <td>1</td>\n",
       "      <td>[u'agree', u'point']</td>\n",
       "      <td>Enjoyment-Pleasure</td>\n",
       "    </tr>\n",
       "    <tr>\n",
       "      <th>2</th>\n",
       "      <td>2</td>\n",
       "      <td>[u'think', u'good', u'tee', u'shirt', 'not_poi...</td>\n",
       "      <td>Envy-Jealousy</td>\n",
       "    </tr>\n",
       "    <tr>\n",
       "      <th>3</th>\n",
       "      <td>3</td>\n",
       "      <td>[u'excuse']</td>\n",
       "      <td>Feeling Disburdened- Relief</td>\n",
       "    </tr>\n",
       "    <tr>\n",
       "      <th>4</th>\n",
       "      <td>4</td>\n",
       "      <td>[u'hang']</td>\n",
       "      <td>Feeling Disburdened- Relief</td>\n",
       "    </tr>\n",
       "  </tbody>\n",
       "</table>\n",
       "</div>"
      ],
      "text/plain": [
       "   Unnamed: 0                                         Nava Tweet  \\\n",
       "0           0  [u'photon', u'direct', u'plane', u'slit', u'sl...   \n",
       "1           1                               [u'agree', u'point']   \n",
       "2           2  [u'think', u'good', u'tee', u'shirt', 'not_poi...   \n",
       "3           3                                        [u'excuse']   \n",
       "4           4                                          [u'hang']   \n",
       "\n",
       "                       Emotion  \n",
       "0                Envy-Jealousy  \n",
       "1           Enjoyment-Pleasure  \n",
       "2                Envy-Jealousy  \n",
       "3  Feeling Disburdened- Relief  \n",
       "4  Feeling Disburdened- Relief  "
      ]
     },
     "execution_count": 16,
     "metadata": {},
     "output_type": "execute_result"
    }
   ],
   "source": [
    "word2vec_results_df = pd.read_csv(dir_+'/Word2VecBased/Tweets_Labelled_Word2Vec_Whole.csv')\n",
    "word2vec_results_df.head()"
   ]
  },
  {
   "cell_type": "code",
   "execution_count": 22,
   "metadata": {
    "collapsed": true
   },
   "outputs": [],
   "source": [
    "word2vec_based_IDs = word2vec_results_df['Emotion'].map(emo_dict)"
   ]
  },
  {
   "cell_type": "markdown",
   "metadata": {},
   "source": [
    "# IV. Loading Results of Best Model from ML:"
   ]
  },
  {
   "cell_type": "code",
   "execution_count": 50,
   "metadata": {
    "collapsed": false
   },
   "outputs": [
    {
     "data": {
      "text/html": [
       "<div>\n",
       "<table border=\"1\" class=\"dataframe\">\n",
       "  <thead>\n",
       "    <tr style=\"text-align: right;\">\n",
       "      <th></th>\n",
       "      <th>Unnamed: 0</th>\n",
       "      <th>Unnamed: 0.1</th>\n",
       "      <th>Tokenized Lemmatized</th>\n",
       "      <th>Nava Representation</th>\n",
       "      <th>RF 10 dim 10 trees No domain Adaptation</th>\n",
       "      <th>Naive Bayes No cv No domain Adaptation</th>\n",
       "      <th>Naive Bayes No c No domain Adaptation</th>\n",
       "    </tr>\n",
       "  </thead>\n",
       "  <tbody>\n",
       "    <tr>\n",
       "      <th>0</th>\n",
       "      <td>0</td>\n",
       "      <td>0</td>\n",
       "      <td>[u'so', u'if', u'a', u'photon', u'be', u'direc...</td>\n",
       "      <td>[u'photon', u'direct', u'plane', u'slit', u'sl...</td>\n",
       "      <td>1</td>\n",
       "      <td>1</td>\n",
       "      <td>13</td>\n",
       "    </tr>\n",
       "    <tr>\n",
       "      <th>1</th>\n",
       "      <td>1</td>\n",
       "      <td>1</td>\n",
       "      <td>[u'agree', u'what', u'be', u'your', u'point']</td>\n",
       "      <td>[u'agree', u'point']</td>\n",
       "      <td>7</td>\n",
       "      <td>7</td>\n",
       "      <td>1</td>\n",
       "    </tr>\n",
       "    <tr>\n",
       "      <th>2</th>\n",
       "      <td>2</td>\n",
       "      <td>2</td>\n",
       "      <td>[u'there', u'be', u'no', u'point', u'i', u'jus...</td>\n",
       "      <td>[u'think', u'good', u'tee', u'shirt', 'not_poi...</td>\n",
       "      <td>8</td>\n",
       "      <td>8</td>\n",
       "      <td>5</td>\n",
       "    </tr>\n",
       "    <tr>\n",
       "      <th>3</th>\n",
       "      <td>3</td>\n",
       "      <td>3</td>\n",
       "      <td>[u'excuse', u'me']</td>\n",
       "      <td>[u'excuse']</td>\n",
       "      <td>13</td>\n",
       "      <td>13</td>\n",
       "      <td>21</td>\n",
       "    </tr>\n",
       "    <tr>\n",
       "      <th>4</th>\n",
       "      <td>4</td>\n",
       "      <td>4</td>\n",
       "      <td>[u'hang', u'on']</td>\n",
       "      <td>[u'hang']</td>\n",
       "      <td>21</td>\n",
       "      <td>21</td>\n",
       "      <td>21</td>\n",
       "    </tr>\n",
       "  </tbody>\n",
       "</table>\n",
       "</div>"
      ],
      "text/plain": [
       "   Unnamed: 0  Unnamed: 0.1  \\\n",
       "0           0             0   \n",
       "1           1             1   \n",
       "2           2             2   \n",
       "3           3             3   \n",
       "4           4             4   \n",
       "\n",
       "                                Tokenized Lemmatized  \\\n",
       "0  [u'so', u'if', u'a', u'photon', u'be', u'direc...   \n",
       "1      [u'agree', u'what', u'be', u'your', u'point']   \n",
       "2  [u'there', u'be', u'no', u'point', u'i', u'jus...   \n",
       "3                                 [u'excuse', u'me']   \n",
       "4                                   [u'hang', u'on']   \n",
       "\n",
       "                                 Nava Representation  \\\n",
       "0  [u'photon', u'direct', u'plane', u'slit', u'sl...   \n",
       "1                               [u'agree', u'point']   \n",
       "2  [u'think', u'good', u'tee', u'shirt', 'not_poi...   \n",
       "3                                        [u'excuse']   \n",
       "4                                          [u'hang']   \n",
       "\n",
       "   RF 10 dim 10 trees No domain Adaptation  \\\n",
       "0                                        1   \n",
       "1                                        7   \n",
       "2                                        8   \n",
       "3                                       13   \n",
       "4                                       21   \n",
       "\n",
       "   Naive Bayes No cv No domain Adaptation  \\\n",
       "0                                       1   \n",
       "1                                       7   \n",
       "2                                       8   \n",
       "3                                      13   \n",
       "4                                      21   \n",
       "\n",
       "   Naive Bayes No c No domain Adaptation  \n",
       "0                                     13  \n",
       "1                                      1  \n",
       "2                                      5  \n",
       "3                                     21  \n",
       "4                                     21  "
      ]
     },
     "execution_count": 50,
     "metadata": {},
     "output_type": "execute_result"
    }
   ],
   "source": [
    "semi_super_df = pd.read_csv(dir_+'/Semi-Supervised/NB_bernoulli_no_cv_no_dom_adapt.csv')\n",
    "semi_super_df.head()"
   ]
  },
  {
   "cell_type": "code",
   "execution_count": 51,
   "metadata": {
    "collapsed": true
   },
   "outputs": [],
   "source": [
    "semi_super_IDs = semi_super_df['Naive Bayes No c No domain Adaptation']"
   ]
  },
  {
   "cell_type": "markdown",
   "metadata": {},
   "source": [
    "# V. Majority Voting:"
   ]
  },
  {
   "cell_type": "code",
   "execution_count": 52,
   "metadata": {
    "collapsed": false
   },
   "outputs": [],
   "source": [
    "majority_emotions = []\n",
    "for i in range(0,len(lexicon_results_df)):\n",
    "    if pmi_based_IDs[i] != 21 :\n",
    "        if word2vec_based_IDs[i] == semi_super_IDs[i]:\n",
    "            majority_emotions.append(word2vec_based_IDs[i])\n",
    "        else:\n",
    "            majority_emotions.append(pmi_based_IDs[i]) \n",
    "    else:\n",
    "        if word2vec_based_IDs[i] != 21:\n",
    "            majority_emotions.append(word2vec_based_IDs[i])\n",
    "        else:\n",
    "            majority_emotions.append(semi_super_IDs[i])"
   ]
  },
  {
   "cell_type": "code",
   "execution_count": 53,
   "metadata": {
    "collapsed": false
   },
   "outputs": [
    {
     "data": {
      "text/plain": [
       "5"
      ]
     },
     "execution_count": 53,
     "metadata": {},
     "output_type": "execute_result"
    }
   ],
   "source": [
    "majority_emotions[1]"
   ]
  },
  {
   "cell_type": "code",
   "execution_count": 38,
   "metadata": {
    "collapsed": false
   },
   "outputs": [
    {
     "data": {
      "text/plain": [
       "5"
      ]
     },
     "execution_count": 38,
     "metadata": {},
     "output_type": "execute_result"
    }
   ],
   "source": [
    "pmi_based_IDs[1]"
   ]
  },
  {
   "cell_type": "code",
   "execution_count": 39,
   "metadata": {
    "collapsed": false
   },
   "outputs": [
    {
     "data": {
      "text/plain": [
       "5"
      ]
     },
     "execution_count": 39,
     "metadata": {},
     "output_type": "execute_result"
    }
   ],
   "source": [
    "word2vec_based_IDs[1]"
   ]
  },
  {
   "cell_type": "code",
   "execution_count": 40,
   "metadata": {
    "collapsed": false
   },
   "outputs": [
    {
     "data": {
      "text/plain": [
       "7"
      ]
     },
     "execution_count": 40,
     "metadata": {},
     "output_type": "execute_result"
    }
   ],
   "source": [
    "semi_super_IDs[1]"
   ]
  },
  {
   "cell_type": "code",
   "execution_count": 43,
   "metadata": {
    "collapsed": false
   },
   "outputs": [
    {
     "data": {
      "text/html": [
       "<div>\n",
       "<table border=\"1\" class=\"dataframe\">\n",
       "  <thead>\n",
       "    <tr style=\"text-align: right;\">\n",
       "      <th></th>\n",
       "      <th>Unnamed: 0</th>\n",
       "      <th>Nava Tweet</th>\n",
       "      <th>Emotion</th>\n",
       "    </tr>\n",
       "  </thead>\n",
       "  <tbody>\n",
       "    <tr>\n",
       "      <th>0</th>\n",
       "      <td>0</td>\n",
       "      <td>[u'photon', u'direct', u'plane', u'slit', u'sl...</td>\n",
       "      <td>Neutral</td>\n",
       "    </tr>\n",
       "    <tr>\n",
       "      <th>1</th>\n",
       "      <td>1</td>\n",
       "      <td>[u'agree', u'point']</td>\n",
       "      <td>Neutral</td>\n",
       "    </tr>\n",
       "    <tr>\n",
       "      <th>2</th>\n",
       "      <td>2</td>\n",
       "      <td>[u'think', u'good', u'tee', u'shirt', 'not_poi...</td>\n",
       "      <td>Neutral</td>\n",
       "    </tr>\n",
       "    <tr>\n",
       "      <th>3</th>\n",
       "      <td>3</td>\n",
       "      <td>[u'excuse']</td>\n",
       "      <td>Neutral</td>\n",
       "    </tr>\n",
       "    <tr>\n",
       "      <th>4</th>\n",
       "      <td>4</td>\n",
       "      <td>[u'hang']</td>\n",
       "      <td>Neutral</td>\n",
       "    </tr>\n",
       "  </tbody>\n",
       "</table>\n",
       "</div>"
      ],
      "text/plain": [
       "   Unnamed: 0                                         Nava Tweet  Emotion\n",
       "0           0  [u'photon', u'direct', u'plane', u'slit', u'sl...  Neutral\n",
       "1           1                               [u'agree', u'point']  Neutral\n",
       "2           2  [u'think', u'good', u'tee', u'shirt', 'not_poi...  Neutral\n",
       "3           3                                        [u'excuse']  Neutral\n",
       "4           4                                          [u'hang']  Neutral"
      ]
     },
     "execution_count": 43,
     "metadata": {},
     "output_type": "execute_result"
    }
   ],
   "source": [
    "lexicon_results_df.head()"
   ]
  },
  {
   "cell_type": "code",
   "execution_count": 44,
   "metadata": {
    "collapsed": false,
    "scrolled": true
   },
   "outputs": [],
   "source": [
    "majority_voting_df = pd.DataFrame()\n",
    "majority_voting_df['Nava Tweet'] = lexicon_results_df['Nava Tweet']\n",
    "majority_voting_df['Emotion ID'] = majority_emotions"
   ]
  },
  {
   "cell_type": "code",
   "execution_count": 45,
   "metadata": {
    "collapsed": false
   },
   "outputs": [
    {
     "data": {
      "text/html": [
       "<div>\n",
       "<table border=\"1\" class=\"dataframe\">\n",
       "  <thead>\n",
       "    <tr style=\"text-align: right;\">\n",
       "      <th></th>\n",
       "      <th>Nava Tweet</th>\n",
       "      <th>Emotion ID</th>\n",
       "    </tr>\n",
       "  </thead>\n",
       "  <tbody>\n",
       "    <tr>\n",
       "      <th>0</th>\n",
       "      <td>[u'photon', u'direct', u'plane', u'slit', u'sl...</td>\n",
       "      <td>17</td>\n",
       "    </tr>\n",
       "    <tr>\n",
       "      <th>1</th>\n",
       "      <td>[u'agree', u'point']</td>\n",
       "      <td>5</td>\n",
       "    </tr>\n",
       "    <tr>\n",
       "      <th>2</th>\n",
       "      <td>[u'think', u'good', u'tee', u'shirt', 'not_poi...</td>\n",
       "      <td>17</td>\n",
       "    </tr>\n",
       "    <tr>\n",
       "      <th>3</th>\n",
       "      <td>[u'excuse']</td>\n",
       "      <td>8</td>\n",
       "    </tr>\n",
       "    <tr>\n",
       "      <th>4</th>\n",
       "      <td>[u'hang']</td>\n",
       "      <td>14</td>\n",
       "    </tr>\n",
       "  </tbody>\n",
       "</table>\n",
       "</div>"
      ],
      "text/plain": [
       "                                          Nava Tweet  Emotion ID\n",
       "0  [u'photon', u'direct', u'plane', u'slit', u'sl...          17\n",
       "1                               [u'agree', u'point']           5\n",
       "2  [u'think', u'good', u'tee', u'shirt', 'not_poi...          17\n",
       "3                                        [u'excuse']           8\n",
       "4                                          [u'hang']          14"
      ]
     },
     "execution_count": 45,
     "metadata": {},
     "output_type": "execute_result"
    }
   ],
   "source": [
    "majority_voting_df.head()"
   ]
  },
  {
   "cell_type": "code",
   "execution_count": 47,
   "metadata": {
    "collapsed": false
   },
   "outputs": [],
   "source": [
    "majority_voting_df.to_csv(dir_+'/MajorityVoting/majority_voting.csv')"
   ]
  }
 ],
 "metadata": {
  "kernelspec": {
   "display_name": "Python 3",
   "language": "python",
   "name": "python3"
  },
  "language_info": {
   "codemirror_mode": {
    "name": "ipython",
    "version": 3
   },
   "file_extension": ".py",
   "mimetype": "text/x-python",
   "name": "python",
   "nbconvert_exporter": "python",
   "pygments_lexer": "ipython3",
   "version": "3.6.0"
  }
 },
 "nbformat": 4,
 "nbformat_minor": 0
}
