{
 "cells": [
  {
   "cell_type": "code",
   "execution_count": 1,
   "metadata": {
    "collapsed": false
   },
   "outputs": [],
   "source": [
    "from imp import reload\n",
    "import pandas as pd\n",
    "from collections import Counter\n",
    "from __future__ import division\n",
    "import pandas as pd\n",
    "pd.set_option('display.max_rows', 10000)\n",
    "pd.set_option('display.max_columns', 500)\n",
    "pd.set_option('display.max_colwidth', 500)"
   ]
  },
  {
   "cell_type": "code",
   "execution_count": 2,
   "metadata": {
    "collapsed": true
   },
   "outputs": [],
   "source": [
    "dir_ = '/Users/MeryemMhamdi/Dropbox/meryem/Deliverables/3. Algorithms and Results/EmotionRecognition/Results' "
   ]
  },
  {
   "cell_type": "code",
   "execution_count": 3,
   "metadata": {
    "collapsed": false,
    "scrolled": true
   },
   "outputs": [
    {
     "data": {
      "text/plain": [
       "726       6\n",
       "4622     19\n",
       "6981      5\n",
       "8920      6\n",
       "13050     3\n",
       "Name: Crowdsourced Truth, dtype: int64"
      ]
     },
     "execution_count": 3,
     "metadata": {},
     "output_type": "execute_result"
    }
   ],
   "source": [
    "human_annotations = pd.read_excel(\"/Users/MeryemMhamdi/Dropbox/meryem/Deliverables/6. Human Validation/human_annotations.xls\")\n",
    "emo_dict= {\n",
    "    'Involvement-Interest': 1, \n",
    "    'Amusement-Laughter' : 2, \n",
    "    'Pride-Elation':3, \n",
    "    'Happiness-Joy':4,\n",
    "    'Enjoyment-Pleasure':5,\n",
    "    'Tenderness-Feeling Love':6,\n",
    "    'Love':6,\n",
    "    'Wonderment-Feeling Awe':7,\n",
    "    'Feeling Disburdened- Relief':8, \n",
    "    'Astonishment- Surprise':9,\n",
    "    'Longing- Nostalgia':10,\n",
    "    'Pity-Compassion':11,\n",
    "    'Sadness-Despair':12,\n",
    "    'Worry-Fear':13,\n",
    "    'Embarrassement-Shame':14,\n",
    "    'Guilt-Remorse':15,\n",
    "    'Disappointment- Regret':16,\n",
    "    'Envy-Jealousy':17,\n",
    "    'Disgust-Repulsion':18,\n",
    "    'Contempt-Scorn':19,\n",
    "    'Irritation-Anger':20,\n",
    "    'Neutral':21,\n",
    "    'No Emotion':21,\n",
    "    'Arrogance-Disdain':22,\n",
    "    'Boredom':23,\n",
    "    'Light heartedness ':24,\n",
    "    'Involvement':1,\n",
    "    'Amusement':2,\n",
    "    'Pride':3,\n",
    "    'Happiness':4,\n",
    "    'Pleasure':5,\n",
    "    'Love':6,\n",
    "    'Awe':7,\n",
    "    'Relief':8,\n",
    "    'Surprise':9,\n",
    "    'Nostalgia':10,\n",
    "    'Pity':11,\n",
    "    'Sadness':12,\n",
    "    'Worry':13,\n",
    "    'Shame':14,\n",
    "    'Guilt':15,\n",
    "    'Regret':16,\n",
    "    'Envy':17,\n",
    "    'Disgust':18,\n",
    "    'Contempt':19,\n",
    "    'Anger':20,\n",
    "    'No Emotion':21,\n",
    "    'Other Emotion':22\n",
    "}\n",
    "\n",
    "crowdsourced_emotions_IDs = human_annotations['Crowdsourced Truth IDs'] = human_annotations['Crowdsourced Truth'].map(emo_dict)\n",
    "crowdsourced_emotions_IDs.head()"
   ]
  },
  {
   "cell_type": "code",
   "execution_count": 4,
   "metadata": {
    "collapsed": false
   },
   "outputs": [],
   "source": [
    "list_individual_emotions = []\n",
    "for i in range(1,22):\n",
    "    list_individual_emotions_sub = []\n",
    "    for crowdsourced_emotion in crowdsourced_emotions_IDs:\n",
    "        if crowdsourced_emotion==i:\n",
    "            list_individual_emotions_sub.append(1)\n",
    "        else:\n",
    "            list_individual_emotions_sub.append(0)\n",
    "    list_individual_emotions.append(list_individual_emotions_sub)"
   ]
  },
  {
   "cell_type": "markdown",
   "metadata": {},
   "source": [
    "# Initial Classifier:"
   ]
  },
  {
   "cell_type": "code",
   "execution_count": 8,
   "metadata": {
    "collapsed": true
   },
   "outputs": [],
   "source": [
    "# Pasting the results of Initial Classifier from Baseline Method\n",
    "list_emotions = [\n",
    "\"Love\",\n",
    "\"No Emotion\",\n",
    "\"Pleasure\",\n",
    "\"Involvement\",\n",
    "\"No Emotion\",\n",
    "\"Amusement\",\n",
    "\"No Emotion\",\n",
    "\"Involvement\",\n",
    "\"Anger\",\n",
    "\"Love\",\n",
    "\"No Emotion\",\n",
    "\"No Emotion\",\n",
    "\"No Emotion\",\n",
    "\"No Emotion\",\n",
    "\"Happiness\",\n",
    "\"Worry\",\n",
    "\"No Emotion\",\n",
    "\"Love\",\n",
    "\"No Emotion\",\n",
    "\"No Emotion\",\n",
    "\"No Emotion\",\n",
    "\"Shame\",\n",
    "\"Worry\",\n",
    "\"Pleasure\",\n",
    "\"No Emotion\",\n",
    "\"No Emotion\",\n",
    "\"Anger\",\n",
    "\"Love\",\n",
    "\"Happiness\",\n",
    "\"No Emotion\",\n",
    "\"Happiness\",\n",
    "\"Worry\",\n",
    "\"Happiness\",\n",
    "\"Love\",\n",
    "\"Happiness\",\n",
    "\"No Emotion\",\n",
    "\"No Emotion\",\n",
    "\"No Emotion\",\n",
    "\"Amusement\",\n",
    "\"No Emotion\",\n",
    "\"Awe\",\n",
    "\"Love\",\n",
    "\"Love\",\n",
    "\"No Emotion\",\n",
    "\"No Emotion\",\n",
    "\"Love\",\n",
    "\"Anger\",\n",
    "\"No Emotion\",\n",
    "\"No Emotion\",\n",
    "\"Worry\",\n",
    "\"No Emotion\",\n",
    "\"Worry\",\n",
    "\"No Emotion\",\n",
    "\"Worry\",\n",
    "\"Love\",\n",
    "\"No Emotion\",\n",
    "\"No Emotion\",\n",
    "\"Love\",\n",
    "\"Awe\",\n",
    "\"Worry\",\n",
    "\"Amusement\",\n",
    "\"Pleasure\",\n",
    "\"Happiness\",\n",
    "\"No Emotion\",\n",
    "\"Amusement\",\n",
    "\"Happiness\",\n",
    "\"Involvement\",\n",
    "\"Regret\",\n",
    "\"Shame\",\n",
    "\"Love\",\n",
    "\"No Emotion\",\n",
    "\"Worry\",\n",
    "\"Sadness\",\n",
    "\"No Emotion\",\n",
    "\"No Emotion\",\n",
    "\"Love\",\n",
    "\"No Emotion\",\n",
    "\"Love\",\n",
    "\"Anger\",\n",
    "\"Love\",\n",
    "\"Awe\",\n",
    "\"Happiness\",\n",
    "\"No Emotion\",\n",
    "\"Happiness\",\n",
    "\"Amusement\",\n",
    "\"No Emotion\",\n",
    "\"Love\",\n",
    "\"Love\",\n",
    "\"Amusement\",\n",
    "\"No Emotion\",\n",
    "\"Love\",\n",
    "\"No Emotion\",\n",
    "\"No Emotion\",\n",
    "\"Worry\",\n",
    "\"Pride\",\n",
    "\"No Emotion\",\n",
    "\"Worry\",\n",
    "\"Involvement\",\n",
    "\"Love\",\n",
    "\"No Emotion\",\n",
    "\"No Emotion\",\n",
    "\"No Emotion\",\n",
    "\"No Emotion\",\n",
    "\"No Emotion\",\n",
    "\"Worry\",\n",
    "\"Nostalgia\",\n",
    "\"No Emotion\",\n",
    "\"No Emotion\",\n",
    "\"Involvement\",\n",
    "\"Relief\",\n",
    "\"Pleasure\",\n",
    "\"No Emotion\",\n",
    "\"Love\",\n",
    "\"Love\",\n",
    "\"Sadness\",\n",
    "\"Love\",\n",
    "\"Awe\",\n",
    "\"Happiness\",\n",
    "\"Love\",\n",
    "\"Shame\",\n",
    "\"Anger\",\n",
    "\"Sadness\",\n",
    "\"Awe\",\n",
    "\"No Emotion\",\n",
    "\"Anger\",\n",
    "\"Surprise\",\n",
    "\"Anger\",\n",
    "\"Worry\",\n",
    "\"Guilt\",\n",
    "\"Surprise\",\n",
    "\"No Emotion\",\n",
    "\"No Emotion\",\n",
    "\"Awe\",\n",
    "\"Nostalgia\",\n",
    "\"No Emotion\",\n",
    "\"No Emotion\",\n",
    "\"No Emotion\",\n",
    "\"No Emotion\",\n",
    "\"Shame\",\n",
    "\"Nostalgia\",\n",
    "\"No Emotion\",\n",
    "\"Love\",\n",
    "\"Nostalgia\",\n",
    "\"Involvement\",\n",
    "\"Love\",\n",
    "\"Nostalgia\",\n",
    "\"Amusement\",\n",
    "\"Surprise\",\n",
    "\"Love\",\n",
    "\"Love\",\n",
    "\"Involvement\",\n",
    "\"Happiness\",\n",
    "\"No Emotion\",\n",
    "\"Worry\",\n",
    "\"No Emotion\",\n",
    "\"Worry\",\n",
    "\"Awe\",\n",
    "\"Awe\",\n",
    "\"No Emotion\",\n",
    "\"Awe\",\n",
    "\"Awe\",\n",
    "\"Love\",\n",
    "\"No Emotion\",\n",
    "\"Love\",\n",
    "\"No Emotion\",\n",
    "\"Amusement\",\n",
    "\"No Emotion\",\n",
    "\"No Emotion\",\n",
    "\"Amusement\",\n",
    "\"No Emotion\",\n",
    "\"Love\",\n",
    "\"Worry\",\n",
    "\"Pride\",\n",
    "\"No Emotion\",\n",
    "\"No Emotion\",\n",
    "\"No Emotion\",\n",
    "\"No Emotion\",\n",
    "\"No Emotion\",\n",
    "\"No Emotion\",\n",
    "\"Worry\",\n",
    "\"Surprise\",\n",
    "\"Regret\",\n",
    "\"Amusement\",\n",
    "\"Sadness\",\n",
    "\"No Emotion\",\n",
    "\"Love\",\n",
    "\"No Emotion\",\n",
    "\"Shame\",\n",
    "\"Worry\",\n",
    "\"Anger\",\n",
    "\"Worry\",\n",
    "\"Awe\",\n",
    "\"No Emotion\",\n",
    "\"Pride\",\n",
    "\"Worry\",\n",
    "\"No Emotion\",\n",
    "\"Sadness\",\n",
    "\"Happiness\",\n",
    "\"No Emotion\",\n",
    "\"Love\",\n",
    "\"No Emotion\",\n",
    "\"No Emotion\",\n",
    "\"Pleasure\",\n",
    "\"No Emotion\",\n",
    "\"Awe\",\n",
    "\"Love\",\n",
    "\"Worry\",\n",
    "\"Anger\",\n",
    "\"No Emotion\",\n",
    "\"No Emotion\",\n",
    "\"No Emotion\",\n",
    "\"Sadness\",\n",
    "\"Guilt\",\n",
    "\"Involvement\",\n",
    "\"Love\",\n",
    "\"Worry\",\n",
    "\"No Emotion\",\n",
    "\"Disgust\",\n",
    "\"Love\",\n",
    "\"No Emotion\",\n",
    "\"Worry\",\n",
    "\"Love\",\n",
    "\"Sadness\",\n",
    "\"Worry\",\n",
    "\"Nostalgia\",\n",
    "\"No Emotion\",\n",
    "\"Anger\",\n",
    "\"Love\",\n",
    "\"No Emotion\",\n",
    "\"Love\",\n",
    "\"Love\",\n",
    "\"No Emotion\",\n",
    "\"No Emotion\",\n",
    "\"No Emotion\",\n",
    "\"Involvement\",\n",
    "\"Love\",\n",
    "\"Worry\",\n",
    "\"Happiness\",\n",
    "\"No Emotion\",\n",
    "\"Love\",\n",
    "\"No Emotion\",\n",
    "\"Happiness\",\n",
    "\"Happiness\",\n",
    "\"No Emotion\",\n",
    "\"No Emotion\",\n",
    "\"Happiness\",\n",
    "\"Happiness\",\n",
    "\"No Emotion\",\n",
    "\"No Emotion\",\n",
    "\"Love\"]"
   ]
  },
  {
   "cell_type": "code",
   "execution_count": 9,
   "metadata": {
    "collapsed": false
   },
   "outputs": [],
   "source": [
    "list_emotions_IDs = []\n",
    "for i in range(0,len(list_emotions)):\n",
    "    list_emotions_IDs.append(emo_dict[list_emotions[i]])"
   ]
  },
  {
   "cell_type": "code",
   "execution_count": 10,
   "metadata": {
    "collapsed": false
   },
   "outputs": [
    {
     "name": "stdout",
     "output_type": "stream",
     "text": [
      "Accuracy Score:  0.248\n",
      "micro Precision Score:  0.248\n",
      "micro Recall Score:  0.248\n",
      "micro f1_score:  0.248\n",
      "macro Precision Score:  0.233327681969\n",
      "macro Recall Score:  0.203730562738\n",
      "macro f1_score:  0.170879954208\n",
      "roc_auc_score:  0.473455598456\n"
     ]
    }
   ],
   "source": [
    "from sklearn import metrics\n",
    "print('Accuracy Score: ',metrics.accuracy_score(crowdsourced_emotions_IDs, list_emotions_IDs))\n",
    "\n",
    "print('micro Precision Score: ',metrics.precision_score(crowdsourced_emotions_IDs, list_emotions_IDs, average='micro'))\n",
    "print('micro Recall Score: ',metrics.recall_score(crowdsourced_emotions_IDs, list_emotions_IDs, average='micro'))\n",
    "print('micro f1_score: ',metrics.f1_score(crowdsourced_emotions_IDs, list_emotions_IDs, average='micro'))\n",
    "\n",
    "print('macro Precision Score: ',metrics.precision_score(crowdsourced_emotions_IDs, list_emotions_IDs, average='macro'))\n",
    "print('macro Recall Score: ',metrics.recall_score(crowdsourced_emotions_IDs, list_emotions_IDs, average='macro'))\n",
    "print('macro f1_score: ',metrics.f1_score(crowdsourced_emotions_IDs, list_emotions_IDs, average='macro'))\n",
    "\n",
    "\n",
    "# Customized Version of AUC for multiple classes\n",
    "fpr, tpr, thresholds = metrics.roc_curve(crowdsourced_emotions_IDs, list_emotions_IDs, pos_label=21)\n",
    "print('roc_auc_score: ',metrics.auc(fpr, tpr))"
   ]
  },
  {
   "cell_type": "code",
   "execution_count": 11,
   "metadata": {
    "collapsed": true
   },
   "outputs": [],
   "source": [
    "list_individual_emotions_lexicon = []\n",
    "for i in range(1,22):\n",
    "    list_individual_emotions_sub_lexicon = []\n",
    "    for lexicon_emotion in list_emotions_IDs:\n",
    "        if lexicon_emotion ==i:\n",
    "            list_individual_emotions_sub_lexicon.append(1)\n",
    "        else:\n",
    "            list_individual_emotions_sub_lexicon.append(0)\n",
    "    list_individual_emotions_lexicon.append(list_individual_emotions_sub_lexicon)"
   ]
  },
  {
   "cell_type": "code",
   "execution_count": 12,
   "metadata": {
    "collapsed": false
   },
   "outputs": [
    {
     "name": "stdout",
     "output_type": "stream",
     "text": [
      "micro f1_score:  0.0\n",
      "micro f1_score:  0.166666666667\n",
      "micro f1_score:  0.44\n",
      "micro f1_score:  0.333333333333\n",
      "micro f1_score:  0.4\n",
      "micro f1_score:  0.0\n",
      "micro f1_score:  0.0\n",
      "micro f1_score:  0.222222222222\n",
      "micro f1_score:  0.0\n",
      "micro f1_score:  0.16\n",
      "micro f1_score:  0.117647058824\n"
     ]
    }
   ],
   "source": [
    "from sklearn import metrics\n",
    "\n",
    "#i = 1\n",
    "#print('micro Precision Score: ',metrics.precision_score(list_individual_emotions[i],list_individual_emotions_lexicon[i] ))\n",
    "#print('micro Recall Score: ',metrics.recall_score(list_individual_emotions[i],list_individual_emotions_lexicon[i] ))\n",
    "for i in range(10,21):\n",
    "    print('micro f1_score: ',metrics.f1_score(list_individual_emotions[i],list_individual_emotions_lexicon[i]))"
   ]
  },
  {
   "cell_type": "markdown",
   "metadata": {},
   "source": [
    "# I. Lexicon Based Approach"
   ]
  },
  {
   "cell_type": "code",
   "execution_count": 13,
   "metadata": {
    "collapsed": false
   },
   "outputs": [
    {
     "data": {
      "text/html": [
       "<div>\n",
       "<style>\n",
       "    .dataframe thead tr:only-child th {\n",
       "        text-align: right;\n",
       "    }\n",
       "\n",
       "    .dataframe thead th {\n",
       "        text-align: left;\n",
       "    }\n",
       "\n",
       "    .dataframe tbody tr th {\n",
       "        vertical-align: top;\n",
       "    }\n",
       "</style>\n",
       "<table border=\"1\" class=\"dataframe\">\n",
       "  <thead>\n",
       "    <tr style=\"text-align: right;\">\n",
       "      <th></th>\n",
       "      <th>Unnamed: 0</th>\n",
       "      <th>Nava Tweet</th>\n",
       "      <th>Emotion</th>\n",
       "      <th>Crowdsourced Truth IDs</th>\n",
       "    </tr>\n",
       "  </thead>\n",
       "  <tbody>\n",
       "    <tr>\n",
       "      <th>0</th>\n",
       "      <td>0</td>\n",
       "      <td>[u'photon', u'direct', u'plane', u'slit', u'slit', u'observe', u'slit', u'unobserved', u'observe', u'leave', u'plane', u'hit', u'target', u'slit', 'not_go', 'not_go']</td>\n",
       "      <td>Neutral</td>\n",
       "      <td>21</td>\n",
       "    </tr>\n",
       "    <tr>\n",
       "      <th>1</th>\n",
       "      <td>1</td>\n",
       "      <td>[u'agree', u'point']</td>\n",
       "      <td>Neutral</td>\n",
       "      <td>21</td>\n",
       "    </tr>\n",
       "    <tr>\n",
       "      <th>2</th>\n",
       "      <td>2</td>\n",
       "      <td>[u'think', u'good', u'tee', u'shirt', 'not_point']</td>\n",
       "      <td>Neutral</td>\n",
       "      <td>21</td>\n",
       "    </tr>\n",
       "    <tr>\n",
       "      <th>3</th>\n",
       "      <td>3</td>\n",
       "      <td>[u'excuse']</td>\n",
       "      <td>Neutral</td>\n",
       "      <td>21</td>\n",
       "    </tr>\n",
       "    <tr>\n",
       "      <th>4</th>\n",
       "      <td>4</td>\n",
       "      <td>[u'hang']</td>\n",
       "      <td>Neutral</td>\n",
       "      <td>21</td>\n",
       "    </tr>\n",
       "  </tbody>\n",
       "</table>\n",
       "</div>"
      ],
      "text/plain": [
       "   Unnamed: 0  \\\n",
       "0           0   \n",
       "1           1   \n",
       "2           2   \n",
       "3           3   \n",
       "4           4   \n",
       "\n",
       "                                                                                                                                                               Nava Tweet  \\\n",
       "0  [u'photon', u'direct', u'plane', u'slit', u'slit', u'observe', u'slit', u'unobserved', u'observe', u'leave', u'plane', u'hit', u'target', u'slit', 'not_go', 'not_go']   \n",
       "1                                                                                                                                                    [u'agree', u'point']   \n",
       "2                                                                                                                      [u'think', u'good', u'tee', u'shirt', 'not_point']   \n",
       "3                                                                                                                                                             [u'excuse']   \n",
       "4                                                                                                                                                               [u'hang']   \n",
       "\n",
       "   Emotion  Crowdsourced Truth IDs  \n",
       "0  Neutral                      21  \n",
       "1  Neutral                      21  \n",
       "2  Neutral                      21  \n",
       "3  Neutral                      21  \n",
       "4  Neutral                      21  "
      ]
     },
     "execution_count": 13,
     "metadata": {},
     "output_type": "execute_result"
    }
   ],
   "source": [
    "lexicon_based = pd.read_csv(dir_+'/LexiconBased/Tweets_Labelled_Lexicon_Whole.csv')\n",
    "lexicon_based_IDs = lexicon_based['Crowdsourced Truth IDs'] = lexicon_based['Emotion'].map(emo_dict)\n",
    "lexicon_validation_set_IDs = lexicon_based_IDs.ix[crowdsourced_emotions_IDs.index]\n",
    "lexicon_based.head()"
   ]
  },
  {
   "cell_type": "code",
   "execution_count": 14,
   "metadata": {
    "collapsed": false
   },
   "outputs": [
    {
     "data": {
      "text/plain": [
       "726       6\n",
       "4622      2\n",
       "6981      5\n",
       "8920      1\n",
       "13050    21\n",
       "Name: Emotion, dtype: int64"
      ]
     },
     "execution_count": 14,
     "metadata": {},
     "output_type": "execute_result"
    }
   ],
   "source": [
    "lexicon_validation_set_IDs.head()"
   ]
  },
  {
   "cell_type": "markdown",
   "metadata": {},
   "source": [
    "## 1. General:"
   ]
  },
  {
   "cell_type": "code",
   "execution_count": 15,
   "metadata": {
    "collapsed": false
   },
   "outputs": [
    {
     "name": "stdout",
     "output_type": "stream",
     "text": [
      "Accuracy Score:  0.332\n",
      "micro Precision Score:  0.32406225653\n",
      "micro Recall Score:  0.332\n",
      "micro f1_score:  0.298696936884\n",
      "macro Precision Score:  0.241424404053\n",
      "macro Recall Score:  0.256345689985\n",
      "macro f1_score:  0.202941920492\n",
      "roc_auc_score:  0.586631274131\n"
     ]
    }
   ],
   "source": [
    "from sklearn import metrics\n",
    "print('Accuracy Score: ',metrics.accuracy_score(crowdsourced_emotions_IDs, lexicon_validation_set_IDs))\n",
    "\n",
    "print('micro Precision Score: ',metrics.precision_score(crowdsourced_emotions_IDs, lexicon_validation_set_IDs, average='weighted'))\n",
    "print('micro Recall Score: ',metrics.recall_score(crowdsourced_emotions_IDs, lexicon_validation_set_IDs, average='weighted'))\n",
    "print('micro f1_score: ',metrics.f1_score(crowdsourced_emotions_IDs, lexicon_validation_set_IDs, average='weighted'))\n",
    "\n",
    "print('macro Precision Score: ',metrics.precision_score(crowdsourced_emotions_IDs, lexicon_validation_set_IDs, average='macro'))\n",
    "print('macro Recall Score: ',metrics.recall_score(crowdsourced_emotions_IDs, lexicon_validation_set_IDs, average='macro'))\n",
    "print('macro f1_score: ',metrics.f1_score(crowdsourced_emotions_IDs, lexicon_validation_set_IDs, average='macro'))\n",
    "\n",
    "\n",
    "# Customized Version of AUC for multiple classes\n",
    "fpr, tpr, thresholds = metrics.roc_curve(crowdsourced_emotions_IDs, lexicon_validation_set_IDs, pos_label=21)\n",
    "print('roc_auc_score: ',metrics.auc(fpr, tpr))"
   ]
  },
  {
   "cell_type": "markdown",
   "metadata": {},
   "source": [
    "## 2. Fine-Grained:"
   ]
  },
  {
   "cell_type": "code",
   "execution_count": 16,
   "metadata": {
    "collapsed": true
   },
   "outputs": [],
   "source": [
    "list_individual_emotions_lexicon = []\n",
    "for i in range(1,22):\n",
    "    list_individual_emotions_sub_lexicon = []\n",
    "    for lexicon_emotion in lexicon_validation_set_IDs:\n",
    "        if lexicon_emotion ==i:\n",
    "            list_individual_emotions_sub_lexicon.append(1)\n",
    "        else:\n",
    "            list_individual_emotions_sub_lexicon.append(0)\n",
    "    list_individual_emotions_lexicon.append(list_individual_emotions_sub_lexicon)"
   ]
  },
  {
   "cell_type": "code",
   "execution_count": 17,
   "metadata": {
    "collapsed": false
   },
   "outputs": [
    {
     "name": "stdout",
     "output_type": "stream",
     "text": [
      "micro Precision Score:  0.642857142857\n",
      "micro Recall Score:  0.428571428571\n",
      "micro f1_score:  0.514285714286\n"
     ]
    }
   ],
   "source": [
    "from sklearn import metrics\n",
    "\n",
    "i = 0\n",
    "print('micro Precision Score: ',metrics.precision_score(list_individual_emotions[i],list_individual_emotions_lexicon[i] ))\n",
    "print('micro Recall Score: ',metrics.recall_score(list_individual_emotions[i],list_individual_emotions_lexicon[i] ))\n",
    "print('micro f1_score: ',metrics.f1_score(list_individual_emotions[i],list_individual_emotions_lexicon[i]))"
   ]
  },
  {
   "cell_type": "markdown",
   "metadata": {},
   "source": [
    "# II. PMI Based Approach"
   ]
  },
  {
   "cell_type": "code",
   "execution_count": 18,
   "metadata": {
    "collapsed": false,
    "scrolled": true
   },
   "outputs": [
    {
     "data": {
      "text/html": [
       "<div>\n",
       "<style>\n",
       "    .dataframe thead tr:only-child th {\n",
       "        text-align: right;\n",
       "    }\n",
       "\n",
       "    .dataframe thead th {\n",
       "        text-align: left;\n",
       "    }\n",
       "\n",
       "    .dataframe tbody tr th {\n",
       "        vertical-align: top;\n",
       "    }\n",
       "</style>\n",
       "<table border=\"1\" class=\"dataframe\">\n",
       "  <thead>\n",
       "    <tr style=\"text-align: right;\">\n",
       "      <th></th>\n",
       "      <th>Unnamed: 0</th>\n",
       "      <th>Nava Tweet</th>\n",
       "      <th>Emotion</th>\n",
       "      <th>Crowdsourced Truth IDs</th>\n",
       "    </tr>\n",
       "  </thead>\n",
       "  <tbody>\n",
       "    <tr>\n",
       "      <th>0</th>\n",
       "      <td>0</td>\n",
       "      <td>['photon', 'direct', 'plane', 'slit', 'slit', 'observe', 'slit', 'unobserved', 'observe', 'leave', 'plane', 'hit', 'target', 'slit', 'not_go', 'not_go']</td>\n",
       "      <td>Neutral</td>\n",
       "      <td>21</td>\n",
       "    </tr>\n",
       "    <tr>\n",
       "      <th>1</th>\n",
       "      <td>1</td>\n",
       "      <td>['agree', 'point']</td>\n",
       "      <td>Contempt-Scorn</td>\n",
       "      <td>19</td>\n",
       "    </tr>\n",
       "    <tr>\n",
       "      <th>2</th>\n",
       "      <td>2</td>\n",
       "      <td>['think', 'good', 'tee', 'shirt', 'not_point']</td>\n",
       "      <td>Neutral</td>\n",
       "      <td>21</td>\n",
       "    </tr>\n",
       "    <tr>\n",
       "      <th>3</th>\n",
       "      <td>3</td>\n",
       "      <td>['excuse']</td>\n",
       "      <td>Pity-Compassion</td>\n",
       "      <td>11</td>\n",
       "    </tr>\n",
       "    <tr>\n",
       "      <th>4</th>\n",
       "      <td>4</td>\n",
       "      <td>['hang']</td>\n",
       "      <td>Embarrassement-Shame</td>\n",
       "      <td>14</td>\n",
       "    </tr>\n",
       "  </tbody>\n",
       "</table>\n",
       "</div>"
      ],
      "text/plain": [
       "   Unnamed: 0  \\\n",
       "0           0   \n",
       "1           1   \n",
       "2           2   \n",
       "3           3   \n",
       "4           4   \n",
       "\n",
       "                                                                                                                                                 Nava Tweet  \\\n",
       "0  ['photon', 'direct', 'plane', 'slit', 'slit', 'observe', 'slit', 'unobserved', 'observe', 'leave', 'plane', 'hit', 'target', 'slit', 'not_go', 'not_go']   \n",
       "1                                                                                                                                        ['agree', 'point']   \n",
       "2                                                                                                            ['think', 'good', 'tee', 'shirt', 'not_point']   \n",
       "3                                                                                                                                                ['excuse']   \n",
       "4                                                                                                                                                  ['hang']   \n",
       "\n",
       "                Emotion  Crowdsourced Truth IDs  \n",
       "0               Neutral                      21  \n",
       "1        Contempt-Scorn                      19  \n",
       "2               Neutral                      21  \n",
       "3       Pity-Compassion                      11  \n",
       "4  Embarrassement-Shame                      14  "
      ]
     },
     "execution_count": 18,
     "metadata": {},
     "output_type": "execute_result"
    }
   ],
   "source": [
    "pmi_based = pd.read_csv(dir_+'/PMIBased/Tweets_Labelled_PMI_NEW.csv')\n",
    "pmi_based_IDs = pmi_based['Crowdsourced Truth IDs'] = pmi_based['Emotion'].map(emo_dict)\n",
    "pmi_validation_set_IDs = pmi_based_IDs.ix[crowdsourced_emotions_IDs.index]\n",
    "pmi_based.head()"
   ]
  },
  {
   "cell_type": "code",
   "execution_count": 19,
   "metadata": {
    "collapsed": false
   },
   "outputs": [
    {
     "name": "stdout",
     "output_type": "stream",
     "text": [
      "Accuracy Score:  0.336\n",
      "micro Precision Score:  0.327854108211\n",
      "micro Recall Score:  0.336\n",
      "micro f1_score:  0.310269164168\n",
      "macro Precision Score:  0.220756779452\n",
      "macro Recall Score:  0.261372219828\n",
      "macro f1_score:  0.21090649437\n",
      "roc_auc_score:  0.602075289575\n"
     ]
    }
   ],
   "source": [
    "from sklearn import metrics\n",
    "print('Accuracy Score: ',metrics.accuracy_score(crowdsourced_emotions_IDs, pmi_validation_set_IDs))\n",
    "\n",
    "print('micro Precision Score: ',metrics.precision_score(crowdsourced_emotions_IDs, pmi_validation_set_IDs, average='weighted'))\n",
    "print('micro Recall Score: ',metrics.recall_score(crowdsourced_emotions_IDs, pmi_validation_set_IDs, average='weighted'))\n",
    "print('micro f1_score: ',metrics.f1_score(crowdsourced_emotions_IDs, pmi_validation_set_IDs, average='weighted'))\n",
    "\n",
    "print('macro Precision Score: ',metrics.precision_score(crowdsourced_emotions_IDs, pmi_validation_set_IDs, average='macro'))\n",
    "print('macro Recall Score: ',metrics.recall_score(crowdsourced_emotions_IDs, pmi_validation_set_IDs, average='macro'))\n",
    "print('macro f1_score: ',metrics.f1_score(crowdsourced_emotions_IDs, pmi_validation_set_IDs, average='macro'))\n",
    "\n",
    "\n",
    "# Customized Version of AUC for multiple classes\n",
    "fpr, tpr, thresholds = metrics.roc_curve(crowdsourced_emotions_IDs, pmi_validation_set_IDs, pos_label=21)\n",
    "print('roc_auc_score: ',metrics.auc(fpr, tpr))"
   ]
  },
  {
   "cell_type": "code",
   "execution_count": 20,
   "metadata": {
    "collapsed": false
   },
   "outputs": [
    {
     "name": "stdout",
     "output_type": "stream",
     "text": [
      "Accuracy Score:  0.336\n",
      "micro Precision Score:  0.336\n",
      "micro Recall Score:  0.336\n",
      "micro f1_score:  0.336\n",
      "macro Precision Score:  0.220756779452\n",
      "macro Recall Score:  0.261372219828\n",
      "macro f1_score:  0.21090649437\n",
      "roc_auc_score:  0.602075289575\n"
     ]
    }
   ],
   "source": [
    "from sklearn import metrics\n",
    "print('Accuracy Score: ',metrics.accuracy_score(crowdsourced_emotions_IDs, pmi_validation_set_IDs))\n",
    "\n",
    "print('micro Precision Score: ',metrics.precision_score(crowdsourced_emotions_IDs, pmi_validation_set_IDs, average='micro'))\n",
    "print('micro Recall Score: ',metrics.recall_score(crowdsourced_emotions_IDs, pmi_validation_set_IDs, average='micro'))\n",
    "print('micro f1_score: ',metrics.f1_score(crowdsourced_emotions_IDs, pmi_validation_set_IDs, average='micro'))\n",
    "\n",
    "print('macro Precision Score: ',metrics.precision_score(crowdsourced_emotions_IDs, pmi_validation_set_IDs, average='macro'))\n",
    "print('macro Recall Score: ',metrics.recall_score(crowdsourced_emotions_IDs, pmi_validation_set_IDs, average='macro'))\n",
    "print('macro f1_score: ',metrics.f1_score(crowdsourced_emotions_IDs, pmi_validation_set_IDs, average='macro'))\n",
    "\n",
    "\n",
    "# Customized Version of AUC for multiple classes\n",
    "fpr, tpr, thresholds = metrics.roc_curve(crowdsourced_emotions_IDs, pmi_validation_set_IDs, pos_label=21)\n",
    "print('roc_auc_score: ',metrics.auc(fpr, tpr))"
   ]
  },
  {
   "cell_type": "markdown",
   "metadata": {},
   "source": [
    "## 1. General:"
   ]
  },
  {
   "cell_type": "code",
   "execution_count": 21,
   "metadata": {
    "collapsed": false
   },
   "outputs": [
    {
     "name": "stdout",
     "output_type": "stream",
     "text": [
      "Accuracy Score:  0.336\n",
      "micro Precision Score:  0.336\n",
      "micro Recall Score:  0.336\n",
      "micro f1_score:  0.336\n",
      "macro Precision Score:  0.220756779452\n",
      "macro Recall Score:  0.261372219828\n",
      "macro f1_score:  0.21090649437\n",
      "roc_auc_score:  0.602075289575\n"
     ]
    }
   ],
   "source": [
    "from sklearn import metrics\n",
    "print('Accuracy Score: ',metrics.accuracy_score(crowdsourced_emotions_IDs, pmi_validation_set_IDs))\n",
    "\n",
    "print('micro Precision Score: ',metrics.precision_score(crowdsourced_emotions_IDs, pmi_validation_set_IDs, average='micro'))\n",
    "print('micro Recall Score: ',metrics.recall_score(crowdsourced_emotions_IDs, pmi_validation_set_IDs, average='micro'))\n",
    "print('micro f1_score: ',metrics.f1_score(crowdsourced_emotions_IDs, pmi_validation_set_IDs, average='micro'))\n",
    "\n",
    "print('macro Precision Score: ',metrics.precision_score(crowdsourced_emotions_IDs, pmi_validation_set_IDs, average='macro'))\n",
    "print('macro Recall Score: ',metrics.recall_score(crowdsourced_emotions_IDs, pmi_validation_set_IDs, average='macro'))\n",
    "print('macro f1_score: ',metrics.f1_score(crowdsourced_emotions_IDs, pmi_validation_set_IDs, average='macro'))\n",
    "\n",
    "\n",
    "# Customized Version of AUC for multiple classes\n",
    "fpr, tpr, thresholds = metrics.roc_curve(crowdsourced_emotions_IDs, pmi_validation_set_IDs, pos_label=21)\n",
    "print('roc_auc_score: ',metrics.auc(fpr, tpr))"
   ]
  },
  {
   "cell_type": "markdown",
   "metadata": {},
   "source": [
    "## 2. Fine-Grained:"
   ]
  },
  {
   "cell_type": "code",
   "execution_count": 22,
   "metadata": {
    "collapsed": true
   },
   "outputs": [],
   "source": [
    "list_individual_emotions_pmi = []\n",
    "for i in range(1,22):\n",
    "    list_individual_emotions_sub_pmi = []\n",
    "    for pmi_emotion in pmi_validation_set_IDs:\n",
    "        if pmi_emotion ==i:\n",
    "            list_individual_emotions_sub_pmi.append(1)\n",
    "        else:\n",
    "            list_individual_emotions_sub_pmi.append(0)\n",
    "    list_individual_emotions_pmi.append(list_individual_emotions_sub_pmi)"
   ]
  },
  {
   "cell_type": "code",
   "execution_count": 23,
   "metadata": {
    "collapsed": false
   },
   "outputs": [
    {
     "name": "stdout",
     "output_type": "stream",
     "text": [
      "micro Precision Score:  0.142857142857\n",
      "micro Recall Score:  0.133333333333\n",
      "micro f1_score:  0.137931034483\n"
     ]
    }
   ],
   "source": [
    "from sklearn import metrics\n",
    "\n",
    "i = 19\n",
    "print('micro Precision Score: ',metrics.precision_score(list_individual_emotions[i],list_individual_emotions_pmi[i] ))\n",
    "print('micro Recall Score: ',metrics.recall_score(list_individual_emotions[i],list_individual_emotions_pmi[i] ))\n",
    "print('micro f1_score: ',metrics.f1_score(list_individual_emotions[i],list_individual_emotions_pmi[i]))"
   ]
  },
  {
   "cell_type": "markdown",
   "metadata": {},
   "source": [
    "# III. Word2Vec Based Approach"
   ]
  },
  {
   "cell_type": "code",
   "execution_count": 24,
   "metadata": {
    "collapsed": false
   },
   "outputs": [
    {
     "data": {
      "text/html": [
       "<div>\n",
       "<style>\n",
       "    .dataframe thead tr:only-child th {\n",
       "        text-align: right;\n",
       "    }\n",
       "\n",
       "    .dataframe thead th {\n",
       "        text-align: left;\n",
       "    }\n",
       "\n",
       "    .dataframe tbody tr th {\n",
       "        vertical-align: top;\n",
       "    }\n",
       "</style>\n",
       "<table border=\"1\" class=\"dataframe\">\n",
       "  <thead>\n",
       "    <tr style=\"text-align: right;\">\n",
       "      <th></th>\n",
       "      <th>Unnamed: 0</th>\n",
       "      <th>Nava Tweet</th>\n",
       "      <th>Emotion</th>\n",
       "      <th>Crowdsourced Truth IDs</th>\n",
       "    </tr>\n",
       "  </thead>\n",
       "  <tbody>\n",
       "    <tr>\n",
       "      <th>0</th>\n",
       "      <td>0</td>\n",
       "      <td>[u'photon', u'direct', u'plane', u'slit', u'slit', u'observe', u'slit', u'unobserved', u'observe', u'leave', u'plane', u'hit', u'target', u'slit', 'not_go', 'not_go']</td>\n",
       "      <td>Envy-Jealousy</td>\n",
       "      <td>17</td>\n",
       "    </tr>\n",
       "    <tr>\n",
       "      <th>1</th>\n",
       "      <td>1</td>\n",
       "      <td>[u'agree', u'point']</td>\n",
       "      <td>Enjoyment-Pleasure</td>\n",
       "      <td>5</td>\n",
       "    </tr>\n",
       "    <tr>\n",
       "      <th>2</th>\n",
       "      <td>2</td>\n",
       "      <td>[u'think', u'good', u'tee', u'shirt', 'not_point']</td>\n",
       "      <td>Envy-Jealousy</td>\n",
       "      <td>17</td>\n",
       "    </tr>\n",
       "    <tr>\n",
       "      <th>3</th>\n",
       "      <td>3</td>\n",
       "      <td>[u'excuse']</td>\n",
       "      <td>Feeling Disburdened- Relief</td>\n",
       "      <td>8</td>\n",
       "    </tr>\n",
       "    <tr>\n",
       "      <th>4</th>\n",
       "      <td>4</td>\n",
       "      <td>[u'hang']</td>\n",
       "      <td>Feeling Disburdened- Relief</td>\n",
       "      <td>8</td>\n",
       "    </tr>\n",
       "  </tbody>\n",
       "</table>\n",
       "</div>"
      ],
      "text/plain": [
       "   Unnamed: 0  \\\n",
       "0           0   \n",
       "1           1   \n",
       "2           2   \n",
       "3           3   \n",
       "4           4   \n",
       "\n",
       "                                                                                                                                                               Nava Tweet  \\\n",
       "0  [u'photon', u'direct', u'plane', u'slit', u'slit', u'observe', u'slit', u'unobserved', u'observe', u'leave', u'plane', u'hit', u'target', u'slit', 'not_go', 'not_go']   \n",
       "1                                                                                                                                                    [u'agree', u'point']   \n",
       "2                                                                                                                      [u'think', u'good', u'tee', u'shirt', 'not_point']   \n",
       "3                                                                                                                                                             [u'excuse']   \n",
       "4                                                                                                                                                               [u'hang']   \n",
       "\n",
       "                       Emotion  Crowdsourced Truth IDs  \n",
       "0                Envy-Jealousy                      17  \n",
       "1           Enjoyment-Pleasure                       5  \n",
       "2                Envy-Jealousy                      17  \n",
       "3  Feeling Disburdened- Relief                       8  \n",
       "4  Feeling Disburdened- Relief                       8  "
      ]
     },
     "execution_count": 24,
     "metadata": {},
     "output_type": "execute_result"
    }
   ],
   "source": [
    "word2vec_based = pd.read_csv(dir_+'/Word2VecBased/Tweets_Labelled_Word2Vec_Whole.csv')\n",
    "word2vec_based_IDs = word2vec_based['Crowdsourced Truth IDs'] = word2vec_based['Emotion'].map(emo_dict)\n",
    "word2vec_validation_set_IDs = word2vec_based_IDs.ix[crowdsourced_emotions_IDs.index]\n",
    "word2vec_based.head()"
   ]
  },
  {
   "cell_type": "markdown",
   "metadata": {},
   "source": [
    "## 1. General:"
   ]
  },
  {
   "cell_type": "code",
   "execution_count": 25,
   "metadata": {
    "collapsed": false
   },
   "outputs": [
    {
     "name": "stdout",
     "output_type": "stream",
     "text": [
      "micro Precision Score:  0.32\n",
      "micro Recall Score:  0.32\n",
      "micro f1_score:  0.32\n",
      "Accuracy Score:  0.32\n",
      "macro Precision Score:  0.218537104367\n",
      "macro Recall Score:  0.256193064833\n",
      "macro f1_score:  0.206513166147\n",
      "roc_auc_score:  0.574485199485\n"
     ]
    }
   ],
   "source": [
    "from sklearn import metrics\n",
    "\n",
    "print('micro Precision Score: ',metrics.precision_score(crowdsourced_emotions_IDs, word2vec_validation_set_IDs, average='micro'))\n",
    "print('micro Recall Score: ',metrics.recall_score(crowdsourced_emotions_IDs, word2vec_validation_set_IDs, average='micro'))\n",
    "print('micro f1_score: ',metrics.f1_score(crowdsourced_emotions_IDs, word2vec_validation_set_IDs, average='micro'))\n",
    "\n",
    "print('Accuracy Score: ',metrics.accuracy_score(crowdsourced_emotions_IDs, word2vec_validation_set_IDs))\n",
    "\n",
    "print('macro Precision Score: ',metrics.precision_score(crowdsourced_emotions_IDs, word2vec_validation_set_IDs, average='macro'))\n",
    "print('macro Recall Score: ',metrics.recall_score(crowdsourced_emotions_IDs, word2vec_validation_set_IDs, average='macro'))\n",
    "print('macro f1_score: ',metrics.f1_score(crowdsourced_emotions_IDs, word2vec_validation_set_IDs, average='macro'))\n",
    "\n",
    "\n",
    "# Customized Version of AUC for multiple classes\n",
    "fpr, tpr, thresholds = metrics.roc_curve(crowdsourced_emotions_IDs, word2vec_validation_set_IDs, pos_label=21)\n",
    "print('roc_auc_score: ',metrics.auc(fpr, tpr))"
   ]
  },
  {
   "cell_type": "markdown",
   "metadata": {},
   "source": [
    "## 2. Fine-Grained:"
   ]
  },
  {
   "cell_type": "code",
   "execution_count": 26,
   "metadata": {
    "collapsed": true
   },
   "outputs": [],
   "source": [
    "list_individual_emotions_word2vec = []\n",
    "for i in range(1,22):\n",
    "    list_individual_emotions_sub_word2vec = []\n",
    "    for word2vec_emotion in word2vec_validation_set_IDs:\n",
    "        if word2vec_emotion ==i:\n",
    "            list_individual_emotions_sub_word2vec.append(1)\n",
    "        else:\n",
    "            list_individual_emotions_sub_word2vec.append(0)\n",
    "    list_individual_emotions_word2vec.append(list_individual_emotions_sub_word2vec)"
   ]
  },
  {
   "cell_type": "code",
   "execution_count": 27,
   "metadata": {
    "collapsed": false
   },
   "outputs": [
    {
     "name": "stdout",
     "output_type": "stream",
     "text": [
      "micro Precision Score:  0.125\n",
      "micro Recall Score:  0.133333333333\n",
      "micro f1_score:  0.129032258065\n"
     ]
    }
   ],
   "source": [
    "from sklearn import metrics\n",
    "\n",
    "i = 19\n",
    "print('micro Precision Score: ',metrics.precision_score(list_individual_emotions[i],list_individual_emotions_word2vec[i] ))\n",
    "print('micro Recall Score: ',metrics.recall_score(list_individual_emotions[i],list_individual_emotions_word2vec[i] ))\n",
    "print('micro f1_score: ',metrics.f1_score(list_individual_emotions[i],list_individual_emotions_word2vec[i]))"
   ]
  },
  {
   "cell_type": "markdown",
   "metadata": {},
   "source": [
    "# IV. Random Forest Approach"
   ]
  },
  {
   "cell_type": "code",
   "execution_count": 28,
   "metadata": {
    "collapsed": false
   },
   "outputs": [],
   "source": [
    "import pandas as pd\n",
    "# /home/meryem/Dropbox/meryem/algorithms/EmotionRecognition/FinalResults/RF_300dim_10trees_dom_adapt.csv\n",
    "# /home/meryem/Dropbox/meryem/algorithms/EmotionRecognition/FinalResults/Semi-Supervised/NB_bernoulli_no_cv_no_dom_adapt.csv\n",
    "# /home/meryem/Dropbox/meryem/algorithms/EmotionRecognition/FinalResults/Semi-Supervised/RF_10dim_10trees_no_dom_adapt.csv\n",
    "rf = pd.read_csv(dir_+'/Semi-Supervised/NB_bernoulli_no_cv_no_dom_adapt.csv')\n",
    "rf.columns\n",
    "rf_IDs = rf['Naive Bayes No c No domain Adaptation'] # 'RF 300 dim 10 trees'\n",
    "rf_validation_set_IDs = rf_IDs.ix[crowdsourced_emotions_IDs.index]"
   ]
  },
  {
   "cell_type": "code",
   "execution_count": 29,
   "metadata": {
    "collapsed": false
   },
   "outputs": [
    {
     "name": "stdout",
     "output_type": "stream",
     "text": [
      "[[ 1  0  0  0  0  1  0  1  0  0 11  0  2  0  0  0  0  3  0  2  0  0  0  0]\n",
      " [ 1  3  0  0  0  2  0  0  1  2  3  0  0  0  3  0  0  1  0  0  0  0  0  0]\n",
      " [ 0  0  0  0  0  1  0  0  0  0  1  0  0  0  1  0  0  1  0  0  0  0  0  0]\n",
      " [ 0  1  0  0  0  0  0  0  1  0  1  1  0  0  0  0  0  0  0  1  0  0  0  0]\n",
      " [ 0  0  0  0  1  0  0  0  1  1  1  0  0  0  0  0  0  2  0  1  0  0  0  0]\n",
      " [ 0  1  1  0  0  6  5  0  1  1  7  0  0  0  3  0  1  2  0  0  0  0  0  0]\n",
      " [ 0  1  0  0  0  2  1  0  0  0  7  0  0  0  0  0  0  1  0  0  0  0  0  0]\n",
      " [ 0  2  0  0  0  0  0  1  0  0  3  0  0  0  0  0  0  0  0  0  1  0  0  0]\n",
      " [ 0  0  0  0  0  0  0  0  1  0  1  0  0  0  0  0  0  0  0  0  0  0  0  0]\n",
      " [ 1  0  0  0  0  0  1  0  0  0  2  0  0  0  0  0  0  5  0  0  0  0  0  0]\n",
      " [ 0  0  0  0  0  1  0  0  0  0  4  0  0  0  0  0  0  0  0  1  0  0  0  0]\n",
      " [ 0  1  0  0  1  1  0  0  0  2  7  0  0  0  1  0  0  2  1  1  0  0  0  0]\n",
      " [ 1  0  0  0  0  2  3  0  0  3  5  0  4  1  1  0  0  3  1  2  0  0  0  0]\n",
      " [ 0  0  0  0  0  0  0  0  0  0  0  0  0  0  0  1  0  0  0  0  0  0  0  0]\n",
      " [ 0  1  1  0  0  0  0  0  0  1  2  0  0  0  2  0  0  0  0  1  0  0  0  0]\n",
      " [ 2  0  1  0  0  0  0  0  0  1  3  0  0  0  0  0  1  1  0  0  0  0  0  0]\n",
      " [ 0  1  0  0  0  0  0  0  0  0  0  0  0  0  0  0  1  0  0  0  0  0  0  0]\n",
      " [ 0  0  0  0  0  0  2  0  0  1  1  0  0  1  0  0  0  3  0  0  0  0  0  0]\n",
      " [ 0  1  0  0  0  0  0  0  0  1  7  0  0  0  1  0  1  3  0  1  0  0  0  0]\n",
      " [ 0  0  0  0  0  0  0  0  0  0  5  0  1  0  0  0  0  6  0  3  0  0  0  0]\n",
      " [ 3  0  2  0  0  1  0  0  0  1  8  0  1  1  1  0  1  7  1  1  0  0  0  0]\n",
      " [ 0  0  0  0  0  0  0  0  0  0  1  0  0  0  0  0  0  0  0  0  0  0  0  0]\n",
      " [ 0  0  0  0  0  0  0  0  0  0  1  0  0  0  0  0  0  1  0  0  0  0  0  0]\n",
      " [ 0  0  0  0  0  0  0  0  0  0  1  0  0  0  0  0  0  0  0  0  0  0  0  0]]\n"
     ]
    },
    {
     "data": {
      "image/png": "[encoded data removed]",
      "text/plain": [
       "<matplotlib.figure.Figure at 0x111636710>"
      ]
     },
     "metadata": {},
     "output_type": "display_data"
    }
   ],
   "source": [
    "import matplotlib.pyplot as plt\n",
    "from sklearn import metrics\n",
    "import numpy as np\n",
    "def plot_confusion_matrix(cm, classes,\n",
    "                          normalize=False,\n",
    "                          title='Confusion matrix',\n",
    "                          cmap=plt.cm.Blues):\n",
    "    \"\"\"\n",
    "    This function prints and plots the confusion matrix.\n",
    "    Normalization can be applied by setting `normalize=True`.\n",
    "    \"\"\"\n",
    "    plt.imshow(cm, interpolation='nearest', cmap=cmap)\n",
    "    plt.title(title)\n",
    "    plt.colorbar()\n",
    "    tick_marks = np.arange(len(classes))\n",
    "    plt.xticks(tick_marks, classes, rotation=45)\n",
    "    plt.yticks(tick_marks, classes)\n",
    "    plt.tight_layout()\n",
    "    plt.ylabel('True label')\n",
    "    plt.xlabel('Predicted label') \n",
    "cm=metrics.confusion_matrix(crowdsourced_emotions_IDs, rf_validation_set_IDs)\n",
    "print(cm)\n",
    "%matplotlib inline\n",
    "plot_confusion_matrix(cm, classes=['Light','Dark'],\n",
    "                      title='Testing Dataset Confusion matrix')"
   ]
  },
  {
   "cell_type": "markdown",
   "metadata": {},
   "source": [
    "## 1. General:"
   ]
  },
  {
   "cell_type": "code",
   "execution_count": 30,
   "metadata": {
    "collapsed": false
   },
   "outputs": [
    {
     "name": "stdout",
     "output_type": "stream",
     "text": [
      "micro Precision Score:  0.124\n",
      "micro Recall Score:  0.124\n",
      "micro f1_score:  0.124\n",
      "Accuracy Score:  0.124\n",
      "macro Precision Score:  0.13281119619\n",
      "macro Recall Score:  0.144331883394\n",
      "macro f1_score:  0.103868763632\n",
      "roc_auc_score:  0.544803732304\n"
     ]
    }
   ],
   "source": [
    "from sklearn import metrics\n",
    "\n",
    "print('micro Precision Score: ',metrics.precision_score(crowdsourced_emotions_IDs, rf_validation_set_IDs, average='micro'))\n",
    "print('micro Recall Score: ',metrics.recall_score(crowdsourced_emotions_IDs, rf_validation_set_IDs, average='micro'))\n",
    "print('micro f1_score: ',metrics.f1_score(crowdsourced_emotions_IDs, rf_validation_set_IDs, average='micro'))\n",
    "\n",
    "print('Accuracy Score: ',metrics.accuracy_score(crowdsourced_emotions_IDs, rf_validation_set_IDs))\n",
    "\n",
    "print('macro Precision Score: ',metrics.precision_score(crowdsourced_emotions_IDs, rf_validation_set_IDs, average='macro'))\n",
    "print('macro Recall Score: ',metrics.recall_score(crowdsourced_emotions_IDs, rf_validation_set_IDs, average='macro'))\n",
    "print('macro f1_score: ',metrics.f1_score(crowdsourced_emotions_IDs, rf_validation_set_IDs, average='macro'))\n",
    "\n",
    "\n",
    "# Customized Version of AUC for multiple classes\n",
    "fpr, tpr, thresholds = metrics.roc_curve(crowdsourced_emotions_IDs, rf_validation_set_IDs, pos_label=21)\n",
    "print('roc_auc_score: ',metrics.auc(fpr, tpr))"
   ]
  },
  {
   "cell_type": "markdown",
   "metadata": {},
   "source": [
    "## 2. Fine-Grained:"
   ]
  },
  {
   "cell_type": "code",
   "execution_count": 31,
   "metadata": {
    "collapsed": true
   },
   "outputs": [],
   "source": [
    "list_individual_emotions_rf = []\n",
    "for i in range(1,22):\n",
    "    list_individual_emotions_sub_rf = []\n",
    "    for rf_emotion in rf_validation_set_IDs:\n",
    "        if rf_emotion ==i:\n",
    "            list_individual_emotions_sub_rf.append(1)\n",
    "        else:\n",
    "            list_individual_emotions_sub_rf.append(0)\n",
    "    list_individual_emotions_rf.append(list_individual_emotions_sub_rf)"
   ]
  },
  {
   "cell_type": "code",
   "execution_count": 32,
   "metadata": {
    "collapsed": false
   },
   "outputs": [
    {
     "name": "stdout",
     "output_type": "stream",
     "text": [
      "micro Precision Score:  0.214285714286\n",
      "micro Recall Score:  0.2\n",
      "micro f1_score:  0.206896551724\n"
     ]
    }
   ],
   "source": [
    "from sklearn import metrics\n",
    "\n",
    "i = 19\n",
    "print('micro Precision Score: ',metrics.precision_score(list_individual_emotions[i],list_individual_emotions_rf[i] ))\n",
    "print('micro Recall Score: ',metrics.recall_score(list_individual_emotions[i],list_individual_emotions_rf[i] ))\n",
    "print('micro f1_score: ',metrics.f1_score(list_individual_emotions[i],list_individual_emotions_rf[i]))"
   ]
  },
  {
   "cell_type": "markdown",
   "metadata": {},
   "source": [
    "#  V. Voting Model:"
   ]
  },
  {
   "cell_type": "code",
   "execution_count": 33,
   "metadata": {
    "collapsed": false
   },
   "outputs": [],
   "source": [
    "majority_voting_df = pd.read_csv(dir_+'/MajorityVoting/majority_voting.csv')\n",
    "majority_voting_IDs = majority_voting_df['Emotion ID']\n",
    "majority_voting_IDs = majority_voting_IDs.ix[crowdsourced_emotions_IDs.index]"
   ]
  },
  {
   "cell_type": "markdown",
   "metadata": {},
   "source": [
    "## 1. General:"
   ]
  },
  {
   "cell_type": "code",
   "execution_count": 34,
   "metadata": {
    "collapsed": false
   },
   "outputs": [
    {
     "name": "stdout",
     "output_type": "stream",
     "text": [
      "micro Precision Score:  0.332\n",
      "micro Recall Score:  0.332\n",
      "micro f1_score:  0.332\n",
      "Accuracy Score:  0.332\n",
      "macro Precision Score:  0.228306871331\n",
      "macro Recall Score:  0.263604362685\n",
      "macro f1_score:  0.212445588403\n",
      "roc_auc_score:  0.564832689833\n"
     ]
    }
   ],
   "source": [
    "from sklearn import metrics\n",
    "\n",
    "print('micro Precision Score: ',metrics.precision_score(crowdsourced_emotions_IDs, majority_voting_IDs, average='micro'))\n",
    "print('micro Recall Score: ',metrics.recall_score(crowdsourced_emotions_IDs, majority_voting_IDs, average='micro'))\n",
    "print('micro f1_score: ',metrics.f1_score(crowdsourced_emotions_IDs, majority_voting_IDs, average='micro'))\n",
    "\n",
    "print('Accuracy Score: ',metrics.accuracy_score(crowdsourced_emotions_IDs, majority_voting_IDs))\n",
    "\n",
    "print('macro Precision Score: ',metrics.precision_score(crowdsourced_emotions_IDs, majority_voting_IDs, average='macro'))\n",
    "print('macro Recall Score: ',metrics.recall_score(crowdsourced_emotions_IDs, majority_voting_IDs, average='macro'))\n",
    "print('macro f1_score: ',metrics.f1_score(crowdsourced_emotions_IDs, majority_voting_IDs, average='macro'))\n",
    "\n",
    "\n",
    "# Customized Version of AUC for multiple classes\n",
    "fpr, tpr, thresholds = metrics.roc_curve(crowdsourced_emotions_IDs, majority_voting_IDs, pos_label=21)\n",
    "print('roc_auc_score: ',metrics.auc(fpr, tpr))"
   ]
  },
  {
   "cell_type": "markdown",
   "metadata": {},
   "source": [
    "## 2. Fine-Grained:"
   ]
  },
  {
   "cell_type": "code",
   "execution_count": 35,
   "metadata": {
    "collapsed": false
   },
   "outputs": [],
   "source": [
    "list_individual_emotions_vm = []\n",
    "for i in range(1,22):\n",
    "    list_individual_emotions_sub_vm = []\n",
    "    for vm_emotion in majority_voting_IDs:\n",
    "        if vm_emotion ==i:\n",
    "            list_individual_emotions_sub_vm.append(1)\n",
    "        else:\n",
    "            list_individual_emotions_sub_vm.append(0)\n",
    "    list_individual_emotions_vm.append(list_individual_emotions_sub_vm)"
   ]
  },
  {
   "cell_type": "code",
   "execution_count": 36,
   "metadata": {
    "collapsed": false
   },
   "outputs": [
    {
     "name": "stdout",
     "output_type": "stream",
     "text": [
      "micro Precision Score:  0.142857142857\n",
      "micro Recall Score:  0.133333333333\n",
      "micro f1_score:  0.137931034483\n"
     ]
    }
   ],
   "source": [
    "from sklearn import metrics\n",
    "\n",
    "i = 19\n",
    "print('micro Precision Score: ',metrics.precision_score(list_individual_emotions[i],list_individual_emotions_vm[i] ))\n",
    "print('micro Recall Score: ',metrics.recall_score(list_individual_emotions[i],list_individual_emotions_vm[i] ))\n",
    "print('micro f1_score: ',metrics.f1_score(list_individual_emotions[i],list_individual_emotions_vm[i]))"
   ]
  }
 ],
 "metadata": {
  "anaconda-cloud": {},
  "kernelspec": {
   "display_name": "Python 3",
   "language": "python",
   "name": "python3"
  },
  "language_info": {
   "codemirror_mode": {
    "name": "ipython",
    "version": 3
   },
   "file_extension": ".py",
   "mimetype": "text/x-python",
   "name": "python",
   "nbconvert_exporter": "python",
   "pygments_lexer": "ipython3",
   "version": "3.6.0"
  }
 },
 "nbformat": 4,
 "nbformat_minor": 0
}
